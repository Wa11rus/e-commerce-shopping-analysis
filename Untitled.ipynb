{
 "cells": [
  {
   "cell_type": "markdown",
   "id": "5e734628",
   "metadata": {},
   "source": [
    "Подключаем все необходимые библиотеки."
   ]
  },
  {
   "cell_type": "code",
   "execution_count": 1,
   "id": "0c3c1bb4",
   "metadata": {},
   "outputs": [],
   "source": [
    "import pandas as pd \n",
    "import numpy as np\n",
    "import seaborn as sns\n",
    "import matplotlib.pyplot as plt\n",
    "import copy"
   ]
  },
  {
   "cell_type": "markdown",
   "id": "e9eda29c",
   "metadata": {},
   "source": [
    "Считываем наши данные, используем параметр parse_dates для представление дат в формате datetime64"
   ]
  },
  {
   "cell_type": "code",
   "execution_count": 2,
   "id": "2f370e1c",
   "metadata": {},
   "outputs": [],
   "source": [
    "customers = pd.read_csv('olist_customers_dataset.csv')\n",
    "order_items = pd.read_csv('olist_order_items_dataset.csv', parse_dates=['shipping_limit_date'])\n",
    "orders = pd.read_csv('olist_orders_dataset.csv', parse_dates=['order_purchase_timestamp', 'order_approved_at', 'order_delivered_carrier_date', 'order_delivered_customer_date', 'order_estimated_delivery_date'])"
   ]
  },
  {
   "cell_type": "markdown",
   "id": "9ad57196",
   "metadata": {},
   "source": [
    "Ознакамливаемся с нашими данными, определяем количество записей и пустых значений, а также проверяем типы данных всех столбцов."
   ]
  },
  {
   "cell_type": "code",
   "execution_count": 3,
   "id": "6cc3fa45",
   "metadata": {},
   "outputs": [
    {
     "data": {
      "text/html": [
       "<div>\n",
       "<style scoped>\n",
       "    .dataframe tbody tr th:only-of-type {\n",
       "        vertical-align: middle;\n",
       "    }\n",
       "\n",
       "    .dataframe tbody tr th {\n",
       "        vertical-align: top;\n",
       "    }\n",
       "\n",
       "    .dataframe thead th {\n",
       "        text-align: right;\n",
       "    }\n",
       "</style>\n",
       "<table border=\"1\" class=\"dataframe\">\n",
       "  <thead>\n",
       "    <tr style=\"text-align: right;\">\n",
       "      <th></th>\n",
       "      <th>customer_id</th>\n",
       "      <th>customer_unique_id</th>\n",
       "      <th>customer_zip_code_prefix</th>\n",
       "      <th>customer_city</th>\n",
       "      <th>customer_state</th>\n",
       "    </tr>\n",
       "  </thead>\n",
       "  <tbody>\n",
       "    <tr>\n",
       "      <th>0</th>\n",
       "      <td>06b8999e2fba1a1fbc88172c00ba8bc7</td>\n",
       "      <td>861eff4711a542e4b93843c6dd7febb0</td>\n",
       "      <td>14409</td>\n",
       "      <td>franca</td>\n",
       "      <td>SP</td>\n",
       "    </tr>\n",
       "    <tr>\n",
       "      <th>1</th>\n",
       "      <td>18955e83d337fd6b2def6b18a428ac77</td>\n",
       "      <td>290c77bc529b7ac935b93aa66c333dc3</td>\n",
       "      <td>9790</td>\n",
       "      <td>sao bernardo do campo</td>\n",
       "      <td>SP</td>\n",
       "    </tr>\n",
       "    <tr>\n",
       "      <th>2</th>\n",
       "      <td>4e7b3e00288586ebd08712fdd0374a03</td>\n",
       "      <td>060e732b5b29e8181a18229c7b0b2b5e</td>\n",
       "      <td>1151</td>\n",
       "      <td>sao paulo</td>\n",
       "      <td>SP</td>\n",
       "    </tr>\n",
       "    <tr>\n",
       "      <th>3</th>\n",
       "      <td>b2b6027bc5c5109e529d4dc6358b12c3</td>\n",
       "      <td>259dac757896d24d7702b9acbbff3f3c</td>\n",
       "      <td>8775</td>\n",
       "      <td>mogi das cruzes</td>\n",
       "      <td>SP</td>\n",
       "    </tr>\n",
       "    <tr>\n",
       "      <th>4</th>\n",
       "      <td>4f2d8ab171c80ec8364f7c12e35b23ad</td>\n",
       "      <td>345ecd01c38d18a9036ed96c73b8d066</td>\n",
       "      <td>13056</td>\n",
       "      <td>campinas</td>\n",
       "      <td>SP</td>\n",
       "    </tr>\n",
       "  </tbody>\n",
       "</table>\n",
       "</div>"
      ],
      "text/plain": [
       "                        customer_id                customer_unique_id  \\\n",
       "0  06b8999e2fba1a1fbc88172c00ba8bc7  861eff4711a542e4b93843c6dd7febb0   \n",
       "1  18955e83d337fd6b2def6b18a428ac77  290c77bc529b7ac935b93aa66c333dc3   \n",
       "2  4e7b3e00288586ebd08712fdd0374a03  060e732b5b29e8181a18229c7b0b2b5e   \n",
       "3  b2b6027bc5c5109e529d4dc6358b12c3  259dac757896d24d7702b9acbbff3f3c   \n",
       "4  4f2d8ab171c80ec8364f7c12e35b23ad  345ecd01c38d18a9036ed96c73b8d066   \n",
       "\n",
       "   customer_zip_code_prefix          customer_city customer_state  \n",
       "0                     14409                 franca             SP  \n",
       "1                      9790  sao bernardo do campo             SP  \n",
       "2                      1151              sao paulo             SP  \n",
       "3                      8775        mogi das cruzes             SP  \n",
       "4                     13056               campinas             SP  "
      ]
     },
     "execution_count": 3,
     "metadata": {},
     "output_type": "execute_result"
    }
   ],
   "source": [
    "customers.head()"
   ]
  },
  {
   "cell_type": "code",
   "execution_count": 4,
   "id": "83356306",
   "metadata": {},
   "outputs": [
    {
     "data": {
      "text/plain": [
       "(99441, 5)"
      ]
     },
     "execution_count": 4,
     "metadata": {},
     "output_type": "execute_result"
    }
   ],
   "source": [
    "customers.shape"
   ]
  },
  {
   "cell_type": "code",
   "execution_count": 5,
   "id": "179c6c63",
   "metadata": {},
   "outputs": [
    {
     "data": {
      "text/plain": [
       "customer_id                 0\n",
       "customer_unique_id          0\n",
       "customer_zip_code_prefix    0\n",
       "customer_city               0\n",
       "customer_state              0\n",
       "dtype: int64"
      ]
     },
     "execution_count": 5,
     "metadata": {},
     "output_type": "execute_result"
    }
   ],
   "source": [
    "customers.isna().sum()"
   ]
  },
  {
   "cell_type": "code",
   "execution_count": 6,
   "id": "e242ea48",
   "metadata": {},
   "outputs": [
    {
     "data": {
      "text/plain": [
       "customer_id                 object\n",
       "customer_unique_id          object\n",
       "customer_zip_code_prefix     int64\n",
       "customer_city               object\n",
       "customer_state              object\n",
       "dtype: object"
      ]
     },
     "execution_count": 6,
     "metadata": {},
     "output_type": "execute_result"
    }
   ],
   "source": [
    "customers.dtypes"
   ]
  },
  {
   "cell_type": "code",
   "execution_count": 7,
   "id": "46cb655c",
   "metadata": {},
   "outputs": [
    {
     "data": {
      "text/html": [
       "<div>\n",
       "<style scoped>\n",
       "    .dataframe tbody tr th:only-of-type {\n",
       "        vertical-align: middle;\n",
       "    }\n",
       "\n",
       "    .dataframe tbody tr th {\n",
       "        vertical-align: top;\n",
       "    }\n",
       "\n",
       "    .dataframe thead th {\n",
       "        text-align: right;\n",
       "    }\n",
       "</style>\n",
       "<table border=\"1\" class=\"dataframe\">\n",
       "  <thead>\n",
       "    <tr style=\"text-align: right;\">\n",
       "      <th></th>\n",
       "      <th>order_id</th>\n",
       "      <th>order_item_id</th>\n",
       "      <th>product_id</th>\n",
       "      <th>seller_id</th>\n",
       "      <th>shipping_limit_date</th>\n",
       "      <th>price</th>\n",
       "      <th>freight_value</th>\n",
       "    </tr>\n",
       "  </thead>\n",
       "  <tbody>\n",
       "    <tr>\n",
       "      <th>0</th>\n",
       "      <td>00010242fe8c5a6d1ba2dd792cb16214</td>\n",
       "      <td>1</td>\n",
       "      <td>4244733e06e7ecb4970a6e2683c13e61</td>\n",
       "      <td>48436dade18ac8b2bce089ec2a041202</td>\n",
       "      <td>2017-09-19 09:45:35</td>\n",
       "      <td>58.90</td>\n",
       "      <td>13.29</td>\n",
       "    </tr>\n",
       "    <tr>\n",
       "      <th>1</th>\n",
       "      <td>00018f77f2f0320c557190d7a144bdd3</td>\n",
       "      <td>1</td>\n",
       "      <td>e5f2d52b802189ee658865ca93d83a8f</td>\n",
       "      <td>dd7ddc04e1b6c2c614352b383efe2d36</td>\n",
       "      <td>2017-05-03 11:05:13</td>\n",
       "      <td>239.90</td>\n",
       "      <td>19.93</td>\n",
       "    </tr>\n",
       "    <tr>\n",
       "      <th>2</th>\n",
       "      <td>000229ec398224ef6ca0657da4fc703e</td>\n",
       "      <td>1</td>\n",
       "      <td>c777355d18b72b67abbeef9df44fd0fd</td>\n",
       "      <td>5b51032eddd242adc84c38acab88f23d</td>\n",
       "      <td>2018-01-18 14:48:30</td>\n",
       "      <td>199.00</td>\n",
       "      <td>17.87</td>\n",
       "    </tr>\n",
       "    <tr>\n",
       "      <th>3</th>\n",
       "      <td>00024acbcdf0a6daa1e931b038114c75</td>\n",
       "      <td>1</td>\n",
       "      <td>7634da152a4610f1595efa32f14722fc</td>\n",
       "      <td>9d7a1d34a5052409006425275ba1c2b4</td>\n",
       "      <td>2018-08-15 10:10:18</td>\n",
       "      <td>12.99</td>\n",
       "      <td>12.79</td>\n",
       "    </tr>\n",
       "    <tr>\n",
       "      <th>4</th>\n",
       "      <td>00042b26cf59d7ce69dfabb4e55b4fd9</td>\n",
       "      <td>1</td>\n",
       "      <td>ac6c3623068f30de03045865e4e10089</td>\n",
       "      <td>df560393f3a51e74553ab94004ba5c87</td>\n",
       "      <td>2017-02-13 13:57:51</td>\n",
       "      <td>199.90</td>\n",
       "      <td>18.14</td>\n",
       "    </tr>\n",
       "  </tbody>\n",
       "</table>\n",
       "</div>"
      ],
      "text/plain": [
       "                           order_id  order_item_id  \\\n",
       "0  00010242fe8c5a6d1ba2dd792cb16214              1   \n",
       "1  00018f77f2f0320c557190d7a144bdd3              1   \n",
       "2  000229ec398224ef6ca0657da4fc703e              1   \n",
       "3  00024acbcdf0a6daa1e931b038114c75              1   \n",
       "4  00042b26cf59d7ce69dfabb4e55b4fd9              1   \n",
       "\n",
       "                         product_id                         seller_id  \\\n",
       "0  4244733e06e7ecb4970a6e2683c13e61  48436dade18ac8b2bce089ec2a041202   \n",
       "1  e5f2d52b802189ee658865ca93d83a8f  dd7ddc04e1b6c2c614352b383efe2d36   \n",
       "2  c777355d18b72b67abbeef9df44fd0fd  5b51032eddd242adc84c38acab88f23d   \n",
       "3  7634da152a4610f1595efa32f14722fc  9d7a1d34a5052409006425275ba1c2b4   \n",
       "4  ac6c3623068f30de03045865e4e10089  df560393f3a51e74553ab94004ba5c87   \n",
       "\n",
       "  shipping_limit_date   price  freight_value  \n",
       "0 2017-09-19 09:45:35   58.90          13.29  \n",
       "1 2017-05-03 11:05:13  239.90          19.93  \n",
       "2 2018-01-18 14:48:30  199.00          17.87  \n",
       "3 2018-08-15 10:10:18   12.99          12.79  \n",
       "4 2017-02-13 13:57:51  199.90          18.14  "
      ]
     },
     "execution_count": 7,
     "metadata": {},
     "output_type": "execute_result"
    }
   ],
   "source": [
    "order_items.head()"
   ]
  },
  {
   "cell_type": "code",
   "execution_count": 8,
   "id": "e79a908a",
   "metadata": {},
   "outputs": [
    {
     "data": {
      "text/plain": [
       "(112650, 7)"
      ]
     },
     "execution_count": 8,
     "metadata": {},
     "output_type": "execute_result"
    }
   ],
   "source": [
    "order_items.shape"
   ]
  },
  {
   "cell_type": "code",
   "execution_count": 9,
   "id": "c14f101b",
   "metadata": {},
   "outputs": [
    {
     "data": {
      "text/plain": [
       "order_id               0\n",
       "order_item_id          0\n",
       "product_id             0\n",
       "seller_id              0\n",
       "shipping_limit_date    0\n",
       "price                  0\n",
       "freight_value          0\n",
       "dtype: int64"
      ]
     },
     "execution_count": 9,
     "metadata": {},
     "output_type": "execute_result"
    }
   ],
   "source": [
    "order_items.isna().sum()"
   ]
  },
  {
   "cell_type": "code",
   "execution_count": 10,
   "id": "c1c2fc40",
   "metadata": {},
   "outputs": [
    {
     "data": {
      "text/plain": [
       "order_id                       object\n",
       "order_item_id                   int64\n",
       "product_id                     object\n",
       "seller_id                      object\n",
       "shipping_limit_date    datetime64[ns]\n",
       "price                         float64\n",
       "freight_value                 float64\n",
       "dtype: object"
      ]
     },
     "execution_count": 10,
     "metadata": {},
     "output_type": "execute_result"
    }
   ],
   "source": [
    "order_items.dtypes"
   ]
  },
  {
   "cell_type": "code",
   "execution_count": 11,
   "id": "9400c6ff",
   "metadata": {},
   "outputs": [
    {
     "data": {
      "text/html": [
       "<div>\n",
       "<style scoped>\n",
       "    .dataframe tbody tr th:only-of-type {\n",
       "        vertical-align: middle;\n",
       "    }\n",
       "\n",
       "    .dataframe tbody tr th {\n",
       "        vertical-align: top;\n",
       "    }\n",
       "\n",
       "    .dataframe thead th {\n",
       "        text-align: right;\n",
       "    }\n",
       "</style>\n",
       "<table border=\"1\" class=\"dataframe\">\n",
       "  <thead>\n",
       "    <tr style=\"text-align: right;\">\n",
       "      <th></th>\n",
       "      <th>order_id</th>\n",
       "      <th>customer_id</th>\n",
       "      <th>order_status</th>\n",
       "      <th>order_purchase_timestamp</th>\n",
       "      <th>order_approved_at</th>\n",
       "      <th>order_delivered_carrier_date</th>\n",
       "      <th>order_delivered_customer_date</th>\n",
       "      <th>order_estimated_delivery_date</th>\n",
       "    </tr>\n",
       "  </thead>\n",
       "  <tbody>\n",
       "    <tr>\n",
       "      <th>0</th>\n",
       "      <td>e481f51cbdc54678b7cc49136f2d6af7</td>\n",
       "      <td>9ef432eb6251297304e76186b10a928d</td>\n",
       "      <td>delivered</td>\n",
       "      <td>2017-10-02 10:56:33</td>\n",
       "      <td>2017-10-02 11:07:15</td>\n",
       "      <td>2017-10-04 19:55:00</td>\n",
       "      <td>2017-10-10 21:25:13</td>\n",
       "      <td>2017-10-18</td>\n",
       "    </tr>\n",
       "    <tr>\n",
       "      <th>1</th>\n",
       "      <td>53cdb2fc8bc7dce0b6741e2150273451</td>\n",
       "      <td>b0830fb4747a6c6d20dea0b8c802d7ef</td>\n",
       "      <td>delivered</td>\n",
       "      <td>2018-07-24 20:41:37</td>\n",
       "      <td>2018-07-26 03:24:27</td>\n",
       "      <td>2018-07-26 14:31:00</td>\n",
       "      <td>2018-08-07 15:27:45</td>\n",
       "      <td>2018-08-13</td>\n",
       "    </tr>\n",
       "    <tr>\n",
       "      <th>2</th>\n",
       "      <td>47770eb9100c2d0c44946d9cf07ec65d</td>\n",
       "      <td>41ce2a54c0b03bf3443c3d931a367089</td>\n",
       "      <td>delivered</td>\n",
       "      <td>2018-08-08 08:38:49</td>\n",
       "      <td>2018-08-08 08:55:23</td>\n",
       "      <td>2018-08-08 13:50:00</td>\n",
       "      <td>2018-08-17 18:06:29</td>\n",
       "      <td>2018-09-04</td>\n",
       "    </tr>\n",
       "    <tr>\n",
       "      <th>3</th>\n",
       "      <td>949d5b44dbf5de918fe9c16f97b45f8a</td>\n",
       "      <td>f88197465ea7920adcdbec7375364d82</td>\n",
       "      <td>delivered</td>\n",
       "      <td>2017-11-18 19:28:06</td>\n",
       "      <td>2017-11-18 19:45:59</td>\n",
       "      <td>2017-11-22 13:39:59</td>\n",
       "      <td>2017-12-02 00:28:42</td>\n",
       "      <td>2017-12-15</td>\n",
       "    </tr>\n",
       "    <tr>\n",
       "      <th>4</th>\n",
       "      <td>ad21c59c0840e6cb83a9ceb5573f8159</td>\n",
       "      <td>8ab97904e6daea8866dbdbc4fb7aad2c</td>\n",
       "      <td>delivered</td>\n",
       "      <td>2018-02-13 21:18:39</td>\n",
       "      <td>2018-02-13 22:20:29</td>\n",
       "      <td>2018-02-14 19:46:34</td>\n",
       "      <td>2018-02-16 18:17:02</td>\n",
       "      <td>2018-02-26</td>\n",
       "    </tr>\n",
       "  </tbody>\n",
       "</table>\n",
       "</div>"
      ],
      "text/plain": [
       "                           order_id                       customer_id  \\\n",
       "0  e481f51cbdc54678b7cc49136f2d6af7  9ef432eb6251297304e76186b10a928d   \n",
       "1  53cdb2fc8bc7dce0b6741e2150273451  b0830fb4747a6c6d20dea0b8c802d7ef   \n",
       "2  47770eb9100c2d0c44946d9cf07ec65d  41ce2a54c0b03bf3443c3d931a367089   \n",
       "3  949d5b44dbf5de918fe9c16f97b45f8a  f88197465ea7920adcdbec7375364d82   \n",
       "4  ad21c59c0840e6cb83a9ceb5573f8159  8ab97904e6daea8866dbdbc4fb7aad2c   \n",
       "\n",
       "  order_status order_purchase_timestamp   order_approved_at  \\\n",
       "0    delivered      2017-10-02 10:56:33 2017-10-02 11:07:15   \n",
       "1    delivered      2018-07-24 20:41:37 2018-07-26 03:24:27   \n",
       "2    delivered      2018-08-08 08:38:49 2018-08-08 08:55:23   \n",
       "3    delivered      2017-11-18 19:28:06 2017-11-18 19:45:59   \n",
       "4    delivered      2018-02-13 21:18:39 2018-02-13 22:20:29   \n",
       "\n",
       "  order_delivered_carrier_date order_delivered_customer_date  \\\n",
       "0          2017-10-04 19:55:00           2017-10-10 21:25:13   \n",
       "1          2018-07-26 14:31:00           2018-08-07 15:27:45   \n",
       "2          2018-08-08 13:50:00           2018-08-17 18:06:29   \n",
       "3          2017-11-22 13:39:59           2017-12-02 00:28:42   \n",
       "4          2018-02-14 19:46:34           2018-02-16 18:17:02   \n",
       "\n",
       "  order_estimated_delivery_date  \n",
       "0                    2017-10-18  \n",
       "1                    2018-08-13  \n",
       "2                    2018-09-04  \n",
       "3                    2017-12-15  \n",
       "4                    2018-02-26  "
      ]
     },
     "execution_count": 11,
     "metadata": {},
     "output_type": "execute_result"
    }
   ],
   "source": [
    "orders.head()"
   ]
  },
  {
   "cell_type": "code",
   "execution_count": 12,
   "id": "f4e03040",
   "metadata": {},
   "outputs": [
    {
     "data": {
      "text/plain": [
       "(99441, 8)"
      ]
     },
     "execution_count": 12,
     "metadata": {},
     "output_type": "execute_result"
    }
   ],
   "source": [
    "orders.shape"
   ]
  },
  {
   "cell_type": "code",
   "execution_count": 13,
   "id": "6f7fa58f",
   "metadata": {},
   "outputs": [
    {
     "data": {
      "text/plain": [
       "order_id                            0\n",
       "customer_id                         0\n",
       "order_status                        0\n",
       "order_purchase_timestamp            0\n",
       "order_approved_at                 160\n",
       "order_delivered_carrier_date     1783\n",
       "order_delivered_customer_date    2965\n",
       "order_estimated_delivery_date       0\n",
       "dtype: int64"
      ]
     },
     "execution_count": 13,
     "metadata": {},
     "output_type": "execute_result"
    }
   ],
   "source": [
    "orders.isna().sum()"
   ]
  },
  {
   "cell_type": "code",
   "execution_count": 14,
   "id": "c58c73d5",
   "metadata": {},
   "outputs": [
    {
     "data": {
      "text/plain": [
       "order_id                                 object\n",
       "customer_id                              object\n",
       "order_status                             object\n",
       "order_purchase_timestamp         datetime64[ns]\n",
       "order_approved_at                datetime64[ns]\n",
       "order_delivered_carrier_date     datetime64[ns]\n",
       "order_delivered_customer_date    datetime64[ns]\n",
       "order_estimated_delivery_date    datetime64[ns]\n",
       "dtype: object"
      ]
     },
     "execution_count": 14,
     "metadata": {},
     "output_type": "execute_result"
    }
   ],
   "source": [
    "orders.dtypes"
   ]
  },
  {
   "cell_type": "markdown",
   "id": "26aa9194",
   "metadata": {},
   "source": [
    "<h3>Узнаем сколько у нас пользователей, которые совершили покупку только один раз.</h3>"
   ]
  },
  {
   "cell_type": "markdown",
   "id": "fd8c7aee",
   "metadata": {},
   "source": [
    "Объединяем необходимые нам таблицы, чтобы получить заказы каждого пользователя."
   ]
  },
  {
   "cell_type": "code",
   "execution_count": 15,
   "id": "332758e3",
   "metadata": {},
   "outputs": [
    {
     "data": {
      "text/html": [
       "<div>\n",
       "<style scoped>\n",
       "    .dataframe tbody tr th:only-of-type {\n",
       "        vertical-align: middle;\n",
       "    }\n",
       "\n",
       "    .dataframe tbody tr th {\n",
       "        vertical-align: top;\n",
       "    }\n",
       "\n",
       "    .dataframe thead th {\n",
       "        text-align: right;\n",
       "    }\n",
       "</style>\n",
       "<table border=\"1\" class=\"dataframe\">\n",
       "  <thead>\n",
       "    <tr style=\"text-align: right;\">\n",
       "      <th></th>\n",
       "      <th>customer_id</th>\n",
       "      <th>customer_unique_id</th>\n",
       "      <th>customer_zip_code_prefix</th>\n",
       "      <th>customer_city</th>\n",
       "      <th>customer_state</th>\n",
       "      <th>order_id</th>\n",
       "      <th>order_status</th>\n",
       "      <th>order_purchase_timestamp</th>\n",
       "      <th>order_approved_at</th>\n",
       "      <th>order_delivered_carrier_date</th>\n",
       "      <th>order_delivered_customer_date</th>\n",
       "      <th>order_estimated_delivery_date</th>\n",
       "    </tr>\n",
       "  </thead>\n",
       "  <tbody>\n",
       "    <tr>\n",
       "      <th>0</th>\n",
       "      <td>06b8999e2fba1a1fbc88172c00ba8bc7</td>\n",
       "      <td>861eff4711a542e4b93843c6dd7febb0</td>\n",
       "      <td>14409</td>\n",
       "      <td>franca</td>\n",
       "      <td>SP</td>\n",
       "      <td>00e7ee1b050b8499577073aeb2a297a1</td>\n",
       "      <td>delivered</td>\n",
       "      <td>2017-05-16 15:05:35</td>\n",
       "      <td>2017-05-16 15:22:12</td>\n",
       "      <td>2017-05-23 10:47:57</td>\n",
       "      <td>2017-05-25 10:35:35</td>\n",
       "      <td>2017-06-05</td>\n",
       "    </tr>\n",
       "    <tr>\n",
       "      <th>1</th>\n",
       "      <td>18955e83d337fd6b2def6b18a428ac77</td>\n",
       "      <td>290c77bc529b7ac935b93aa66c333dc3</td>\n",
       "      <td>9790</td>\n",
       "      <td>sao bernardo do campo</td>\n",
       "      <td>SP</td>\n",
       "      <td>29150127e6685892b6eab3eec79f59c7</td>\n",
       "      <td>delivered</td>\n",
       "      <td>2018-01-12 20:48:24</td>\n",
       "      <td>2018-01-12 20:58:32</td>\n",
       "      <td>2018-01-15 17:14:59</td>\n",
       "      <td>2018-01-29 12:41:19</td>\n",
       "      <td>2018-02-06</td>\n",
       "    </tr>\n",
       "    <tr>\n",
       "      <th>2</th>\n",
       "      <td>4e7b3e00288586ebd08712fdd0374a03</td>\n",
       "      <td>060e732b5b29e8181a18229c7b0b2b5e</td>\n",
       "      <td>1151</td>\n",
       "      <td>sao paulo</td>\n",
       "      <td>SP</td>\n",
       "      <td>b2059ed67ce144a36e2aa97d2c9e9ad2</td>\n",
       "      <td>delivered</td>\n",
       "      <td>2018-05-19 16:07:45</td>\n",
       "      <td>2018-05-20 16:19:10</td>\n",
       "      <td>2018-06-11 14:31:00</td>\n",
       "      <td>2018-06-14 17:58:51</td>\n",
       "      <td>2018-06-13</td>\n",
       "    </tr>\n",
       "    <tr>\n",
       "      <th>3</th>\n",
       "      <td>b2b6027bc5c5109e529d4dc6358b12c3</td>\n",
       "      <td>259dac757896d24d7702b9acbbff3f3c</td>\n",
       "      <td>8775</td>\n",
       "      <td>mogi das cruzes</td>\n",
       "      <td>SP</td>\n",
       "      <td>951670f92359f4fe4a63112aa7306eba</td>\n",
       "      <td>delivered</td>\n",
       "      <td>2018-03-13 16:06:38</td>\n",
       "      <td>2018-03-13 17:29:19</td>\n",
       "      <td>2018-03-27 23:22:42</td>\n",
       "      <td>2018-03-28 16:04:25</td>\n",
       "      <td>2018-04-10</td>\n",
       "    </tr>\n",
       "    <tr>\n",
       "      <th>4</th>\n",
       "      <td>4f2d8ab171c80ec8364f7c12e35b23ad</td>\n",
       "      <td>345ecd01c38d18a9036ed96c73b8d066</td>\n",
       "      <td>13056</td>\n",
       "      <td>campinas</td>\n",
       "      <td>SP</td>\n",
       "      <td>6b7d50bd145f6fc7f33cebabd7e49d0f</td>\n",
       "      <td>delivered</td>\n",
       "      <td>2018-07-29 09:51:30</td>\n",
       "      <td>2018-07-29 10:10:09</td>\n",
       "      <td>2018-07-30 15:16:00</td>\n",
       "      <td>2018-08-09 20:55:48</td>\n",
       "      <td>2018-08-15</td>\n",
       "    </tr>\n",
       "  </tbody>\n",
       "</table>\n",
       "</div>"
      ],
      "text/plain": [
       "                        customer_id                customer_unique_id  \\\n",
       "0  06b8999e2fba1a1fbc88172c00ba8bc7  861eff4711a542e4b93843c6dd7febb0   \n",
       "1  18955e83d337fd6b2def6b18a428ac77  290c77bc529b7ac935b93aa66c333dc3   \n",
       "2  4e7b3e00288586ebd08712fdd0374a03  060e732b5b29e8181a18229c7b0b2b5e   \n",
       "3  b2b6027bc5c5109e529d4dc6358b12c3  259dac757896d24d7702b9acbbff3f3c   \n",
       "4  4f2d8ab171c80ec8364f7c12e35b23ad  345ecd01c38d18a9036ed96c73b8d066   \n",
       "\n",
       "   customer_zip_code_prefix          customer_city customer_state  \\\n",
       "0                     14409                 franca             SP   \n",
       "1                      9790  sao bernardo do campo             SP   \n",
       "2                      1151              sao paulo             SP   \n",
       "3                      8775        mogi das cruzes             SP   \n",
       "4                     13056               campinas             SP   \n",
       "\n",
       "                           order_id order_status order_purchase_timestamp  \\\n",
       "0  00e7ee1b050b8499577073aeb2a297a1    delivered      2017-05-16 15:05:35   \n",
       "1  29150127e6685892b6eab3eec79f59c7    delivered      2018-01-12 20:48:24   \n",
       "2  b2059ed67ce144a36e2aa97d2c9e9ad2    delivered      2018-05-19 16:07:45   \n",
       "3  951670f92359f4fe4a63112aa7306eba    delivered      2018-03-13 16:06:38   \n",
       "4  6b7d50bd145f6fc7f33cebabd7e49d0f    delivered      2018-07-29 09:51:30   \n",
       "\n",
       "    order_approved_at order_delivered_carrier_date  \\\n",
       "0 2017-05-16 15:22:12          2017-05-23 10:47:57   \n",
       "1 2018-01-12 20:58:32          2018-01-15 17:14:59   \n",
       "2 2018-05-20 16:19:10          2018-06-11 14:31:00   \n",
       "3 2018-03-13 17:29:19          2018-03-27 23:22:42   \n",
       "4 2018-07-29 10:10:09          2018-07-30 15:16:00   \n",
       "\n",
       "  order_delivered_customer_date order_estimated_delivery_date  \n",
       "0           2017-05-25 10:35:35                    2017-06-05  \n",
       "1           2018-01-29 12:41:19                    2018-02-06  \n",
       "2           2018-06-14 17:58:51                    2018-06-13  \n",
       "3           2018-03-28 16:04:25                    2018-04-10  \n",
       "4           2018-08-09 20:55:48                    2018-08-15  "
      ]
     },
     "execution_count": 15,
     "metadata": {},
     "output_type": "execute_result"
    }
   ],
   "source": [
    "customers_orders = customers.merge(orders, on='customer_id')\n",
    "customers_orders.head()"
   ]
  },
  {
   "cell_type": "markdown",
   "id": "aa5109a2",
   "metadata": {},
   "source": [
    "Под \"совершили покупку\" будем считать пользователей у которых статус заказа \"delivered\". Отбираем доставленные заказы и считаем уникальные id пользователей которые свершили всего 1 заказ. В нашем случае таких пользователей 90557."
   ]
  },
  {
   "cell_type": "code",
   "execution_count": 16,
   "id": "76fc0c53",
   "metadata": {},
   "outputs": [
    {
     "data": {
      "text/plain": [
       "90557"
      ]
     },
     "execution_count": 16,
     "metadata": {},
     "output_type": "execute_result"
    }
   ],
   "source": [
    "((customers_orders.query('order_status == \"delivered\"')\n",
    "    .customer_unique_id\n",
    "    .value_counts() == 1)\n",
    "    .sum())"
   ]
  },
  {
   "cell_type": "markdown",
   "id": "69d1749f",
   "metadata": {},
   "source": [
    "Дополнительно посмотрим сколько пользователей совершили больше одного заказа. Получаем 2801. \n",
    "\n",
    "Около 3% пользователей сделали покупку в магазине повторно."
   ]
  },
  {
   "cell_type": "code",
   "execution_count": 17,
   "id": "8b1962c0",
   "metadata": {},
   "outputs": [
    {
     "data": {
      "text/plain": [
       "2801"
      ]
     },
     "execution_count": 17,
     "metadata": {},
     "output_type": "execute_result"
    }
   ],
   "source": [
    "((customers_orders.query('order_status == \"delivered\"')\n",
    "    .customer_unique_id\n",
    "    .value_counts() > 1)\n",
    "    .sum())"
   ]
  },
  {
   "cell_type": "markdown",
   "id": "a64476c9",
   "metadata": {},
   "source": [
    "<h3>Узнаем сколько заказов в месяц в среднем не достовляеться по разным причинам. </h3>"
   ]
  },
  {
   "cell_type": "markdown",
   "id": "148f7611",
   "metadata": {},
   "source": [
    "В качестве не доставленных заказов будем использовать те у которых статус \"canceled\" либо \"unavailable\". Отбираем только такие заказы и только нужные нам в этом задании столбцы ('customer_id', 'order_status', 'order_purchase_timestamp') в новую таблицу monthly_cancellations."
   ]
  },
  {
   "cell_type": "code",
   "execution_count": 18,
   "id": "11c0a3be",
   "metadata": {},
   "outputs": [],
   "source": [
    "monthly_cancellations = (customers_orders[['customer_id', 'order_status', 'order_purchase_timestamp']]\n",
    "                         .query('order_status in [\"unavailable\", \"canceled\"]'))"
   ]
  },
  {
   "cell_type": "markdown",
   "id": "6c9e8f28",
   "metadata": {},
   "source": [
    "Для разбивки по месяцам используем дату создания заказа (order_purchase_timestamp), убираем из нее время и день."
   ]
  },
  {
   "cell_type": "code",
   "execution_count": 19,
   "id": "f63475ae",
   "metadata": {},
   "outputs": [],
   "source": [
    "monthly_cancellations['order_purchase_timestamp'] = monthly_cancellations.order_purchase_timestamp.dt.strftime(\"%Y-%m\")"
   ]
  },
  {
   "cell_type": "markdown",
   "id": "97220398",
   "metadata": {},
   "source": [
    "Подсчитываем количество пользователей (по позаказному идентификатору) для каждого месяца наших наблюдений и каждого статуса наших заказов. Получаем детализацию по причинам недоставки заказов в каждый месяц."
   ]
  },
  {
   "cell_type": "code",
   "execution_count": 20,
   "id": "28670386",
   "metadata": {
    "scrolled": true
   },
   "outputs": [
    {
     "data": {
      "text/html": [
       "<div>\n",
       "<style scoped>\n",
       "    .dataframe tbody tr th:only-of-type {\n",
       "        vertical-align: middle;\n",
       "    }\n",
       "\n",
       "    .dataframe tbody tr th {\n",
       "        vertical-align: top;\n",
       "    }\n",
       "\n",
       "    .dataframe thead th {\n",
       "        text-align: right;\n",
       "    }\n",
       "</style>\n",
       "<table border=\"1\" class=\"dataframe\">\n",
       "  <thead>\n",
       "    <tr style=\"text-align: right;\">\n",
       "      <th></th>\n",
       "      <th>date</th>\n",
       "      <th>order_status</th>\n",
       "      <th>cancellations</th>\n",
       "    </tr>\n",
       "  </thead>\n",
       "  <tbody>\n",
       "    <tr>\n",
       "      <th>0</th>\n",
       "      <td>2016-09</td>\n",
       "      <td>canceled</td>\n",
       "      <td>2</td>\n",
       "    </tr>\n",
       "    <tr>\n",
       "      <th>1</th>\n",
       "      <td>2016-10</td>\n",
       "      <td>canceled</td>\n",
       "      <td>24</td>\n",
       "    </tr>\n",
       "    <tr>\n",
       "      <th>2</th>\n",
       "      <td>2016-10</td>\n",
       "      <td>unavailable</td>\n",
       "      <td>7</td>\n",
       "    </tr>\n",
       "    <tr>\n",
       "      <th>3</th>\n",
       "      <td>2017-01</td>\n",
       "      <td>canceled</td>\n",
       "      <td>3</td>\n",
       "    </tr>\n",
       "    <tr>\n",
       "      <th>4</th>\n",
       "      <td>2017-01</td>\n",
       "      <td>unavailable</td>\n",
       "      <td>10</td>\n",
       "    </tr>\n",
       "  </tbody>\n",
       "</table>\n",
       "</div>"
      ],
      "text/plain": [
       "      date order_status  cancellations\n",
       "0  2016-09     canceled              2\n",
       "1  2016-10     canceled             24\n",
       "2  2016-10  unavailable              7\n",
       "3  2017-01     canceled              3\n",
       "4  2017-01  unavailable             10"
      ]
     },
     "execution_count": 20,
     "metadata": {},
     "output_type": "execute_result"
    }
   ],
   "source": [
    "monthly_cancellations = (monthly_cancellations.groupby(['order_purchase_timestamp', 'order_status'],as_index=False)\n",
    "                         .agg({'customer_id': 'count'})\n",
    "                         .rename(columns={'order_purchase_timestamp': 'date','customer_id': 'cancellations'}))\n",
    "monthly_cancellations.head()"
   ]
  },
  {
   "cell_type": "markdown",
   "id": "50b7ff3d",
   "metadata": {},
   "source": [
    "Для наглядности выводим сводную таблицу по причинам в каждый из месяцев, а также строим барплот в котором для каждого месяца, синий столбец - отмененные заказы, желтый - недоступные заказы. "
   ]
  },
  {
   "cell_type": "code",
   "execution_count": 21,
   "id": "63cd26ab",
   "metadata": {},
   "outputs": [
    {
     "data": {
      "text/html": [
       "<div>\n",
       "<style scoped>\n",
       "    .dataframe tbody tr th:only-of-type {\n",
       "        vertical-align: middle;\n",
       "    }\n",
       "\n",
       "    .dataframe tbody tr th {\n",
       "        vertical-align: top;\n",
       "    }\n",
       "\n",
       "    .dataframe thead th {\n",
       "        text-align: right;\n",
       "    }\n",
       "</style>\n",
       "<table border=\"1\" class=\"dataframe\">\n",
       "  <thead>\n",
       "    <tr style=\"text-align: right;\">\n",
       "      <th>order_status</th>\n",
       "      <th>canceled</th>\n",
       "      <th>unavailable</th>\n",
       "    </tr>\n",
       "    <tr>\n",
       "      <th>date</th>\n",
       "      <th></th>\n",
       "      <th></th>\n",
       "    </tr>\n",
       "  </thead>\n",
       "  <tbody>\n",
       "    <tr>\n",
       "      <th>2016-09</th>\n",
       "      <td>2.0</td>\n",
       "      <td>0.0</td>\n",
       "    </tr>\n",
       "    <tr>\n",
       "      <th>2016-10</th>\n",
       "      <td>24.0</td>\n",
       "      <td>7.0</td>\n",
       "    </tr>\n",
       "    <tr>\n",
       "      <th>2017-01</th>\n",
       "      <td>3.0</td>\n",
       "      <td>10.0</td>\n",
       "    </tr>\n",
       "    <tr>\n",
       "      <th>2017-02</th>\n",
       "      <td>17.0</td>\n",
       "      <td>45.0</td>\n",
       "    </tr>\n",
       "    <tr>\n",
       "      <th>2017-03</th>\n",
       "      <td>33.0</td>\n",
       "      <td>32.0</td>\n",
       "    </tr>\n",
       "    <tr>\n",
       "      <th>2017-04</th>\n",
       "      <td>18.0</td>\n",
       "      <td>9.0</td>\n",
       "    </tr>\n",
       "    <tr>\n",
       "      <th>2017-05</th>\n",
       "      <td>29.0</td>\n",
       "      <td>31.0</td>\n",
       "    </tr>\n",
       "    <tr>\n",
       "      <th>2017-06</th>\n",
       "      <td>16.0</td>\n",
       "      <td>24.0</td>\n",
       "    </tr>\n",
       "    <tr>\n",
       "      <th>2017-07</th>\n",
       "      <td>28.0</td>\n",
       "      <td>52.0</td>\n",
       "    </tr>\n",
       "    <tr>\n",
       "      <th>2017-08</th>\n",
       "      <td>27.0</td>\n",
       "      <td>32.0</td>\n",
       "    </tr>\n",
       "    <tr>\n",
       "      <th>2017-09</th>\n",
       "      <td>20.0</td>\n",
       "      <td>38.0</td>\n",
       "    </tr>\n",
       "    <tr>\n",
       "      <th>2017-10</th>\n",
       "      <td>26.0</td>\n",
       "      <td>58.0</td>\n",
       "    </tr>\n",
       "    <tr>\n",
       "      <th>2017-11</th>\n",
       "      <td>37.0</td>\n",
       "      <td>84.0</td>\n",
       "    </tr>\n",
       "    <tr>\n",
       "      <th>2017-12</th>\n",
       "      <td>11.0</td>\n",
       "      <td>42.0</td>\n",
       "    </tr>\n",
       "    <tr>\n",
       "      <th>2018-01</th>\n",
       "      <td>34.0</td>\n",
       "      <td>48.0</td>\n",
       "    </tr>\n",
       "    <tr>\n",
       "      <th>2018-02</th>\n",
       "      <td>73.0</td>\n",
       "      <td>30.0</td>\n",
       "    </tr>\n",
       "    <tr>\n",
       "      <th>2018-03</th>\n",
       "      <td>26.0</td>\n",
       "      <td>17.0</td>\n",
       "    </tr>\n",
       "    <tr>\n",
       "      <th>2018-04</th>\n",
       "      <td>15.0</td>\n",
       "      <td>5.0</td>\n",
       "    </tr>\n",
       "    <tr>\n",
       "      <th>2018-05</th>\n",
       "      <td>24.0</td>\n",
       "      <td>16.0</td>\n",
       "    </tr>\n",
       "    <tr>\n",
       "      <th>2018-06</th>\n",
       "      <td>18.0</td>\n",
       "      <td>4.0</td>\n",
       "    </tr>\n",
       "    <tr>\n",
       "      <th>2018-07</th>\n",
       "      <td>41.0</td>\n",
       "      <td>18.0</td>\n",
       "    </tr>\n",
       "    <tr>\n",
       "      <th>2018-08</th>\n",
       "      <td>84.0</td>\n",
       "      <td>7.0</td>\n",
       "    </tr>\n",
       "    <tr>\n",
       "      <th>2018-09</th>\n",
       "      <td>15.0</td>\n",
       "      <td>0.0</td>\n",
       "    </tr>\n",
       "    <tr>\n",
       "      <th>2018-10</th>\n",
       "      <td>4.0</td>\n",
       "      <td>0.0</td>\n",
       "    </tr>\n",
       "  </tbody>\n",
       "</table>\n",
       "</div>"
      ],
      "text/plain": [
       "order_status  canceled  unavailable\n",
       "date                               \n",
       "2016-09            2.0          0.0\n",
       "2016-10           24.0          7.0\n",
       "2017-01            3.0         10.0\n",
       "2017-02           17.0         45.0\n",
       "2017-03           33.0         32.0\n",
       "2017-04           18.0          9.0\n",
       "2017-05           29.0         31.0\n",
       "2017-06           16.0         24.0\n",
       "2017-07           28.0         52.0\n",
       "2017-08           27.0         32.0\n",
       "2017-09           20.0         38.0\n",
       "2017-10           26.0         58.0\n",
       "2017-11           37.0         84.0\n",
       "2017-12           11.0         42.0\n",
       "2018-01           34.0         48.0\n",
       "2018-02           73.0         30.0\n",
       "2018-03           26.0         17.0\n",
       "2018-04           15.0          5.0\n",
       "2018-05           24.0         16.0\n",
       "2018-06           18.0          4.0\n",
       "2018-07           41.0         18.0\n",
       "2018-08           84.0          7.0\n",
       "2018-09           15.0          0.0\n",
       "2018-10            4.0          0.0"
      ]
     },
     "execution_count": 21,
     "metadata": {},
     "output_type": "execute_result"
    }
   ],
   "source": [
    "monthly_cancellations.pivot(index='date', columns='order_status', values='cancellations').fillna(0)"
   ]
  },
  {
   "cell_type": "code",
   "execution_count": 22,
   "id": "ec4f9f54",
   "metadata": {},
   "outputs": [
    {
     "data": {
      "image/png": "[encoded data removed]",
      "text/plain": [
       "<Figure size 720x432 with 1 Axes>"
      ]
     },
     "metadata": {
      "needs_background": "light"
     },
     "output_type": "display_data"
    }
   ],
   "source": [
    "plt.figure(figsize=(10, 6))\n",
    "\n",
    "ax = sns.barplot(x=\"date\", y=\"cancellations\", hue=\"order_status\", data=monthly_cancellations)\n",
    "ax.set_xticklabels(ax.get_xticklabels(), rotation=40, ha=\"right\")\n",
    "plt.tight_layout()\n",
    "plt.show()"
   ]
  },
  {
   "cell_type": "markdown",
   "id": "d221b100",
   "metadata": {},
   "source": [
    "Подсчитываем сумму всех не доставленных в каждый месяц заказов и подсчитываем среднее значение, получаем 51.5, а также подсчитываем это значение с групировкой по статусам заказов, получаем 26 для отмененных и 29 для недоступных заказов."
   ]
  },
  {
   "cell_type": "code",
   "execution_count": 23,
   "id": "864736da",
   "metadata": {},
   "outputs": [
    {
     "data": {
      "text/plain": [
       "51.416666666666664"
      ]
     },
     "execution_count": 23,
     "metadata": {},
     "output_type": "execute_result"
    }
   ],
   "source": [
    "monthly_cancellations.groupby('date').agg({'cancellations': 'sum'}).cancellations.mean()"
   ]
  },
  {
   "cell_type": "code",
   "execution_count": 24,
   "id": "c1b52567",
   "metadata": {},
   "outputs": [
    {
     "data": {
      "text/html": [
       "<div>\n",
       "<style scoped>\n",
       "    .dataframe tbody tr th:only-of-type {\n",
       "        vertical-align: middle;\n",
       "    }\n",
       "\n",
       "    .dataframe tbody tr th {\n",
       "        vertical-align: top;\n",
       "    }\n",
       "\n",
       "    .dataframe thead th {\n",
       "        text-align: right;\n",
       "    }\n",
       "</style>\n",
       "<table border=\"1\" class=\"dataframe\">\n",
       "  <thead>\n",
       "    <tr style=\"text-align: right;\">\n",
       "      <th></th>\n",
       "      <th>cancellations</th>\n",
       "    </tr>\n",
       "    <tr>\n",
       "      <th>order_status</th>\n",
       "      <th></th>\n",
       "    </tr>\n",
       "  </thead>\n",
       "  <tbody>\n",
       "    <tr>\n",
       "      <th>canceled</th>\n",
       "      <td>26.041667</td>\n",
       "    </tr>\n",
       "    <tr>\n",
       "      <th>unavailable</th>\n",
       "      <td>29.000000</td>\n",
       "    </tr>\n",
       "  </tbody>\n",
       "</table>\n",
       "</div>"
      ],
      "text/plain": [
       "              cancellations\n",
       "order_status               \n",
       "canceled          26.041667\n",
       "unavailable       29.000000"
      ]
     },
     "execution_count": 24,
     "metadata": {},
     "output_type": "execute_result"
    }
   ],
   "source": [
    "monthly_cancellations.groupby('order_status').agg({'cancellations': 'mean'})"
   ]
  },
  {
   "cell_type": "markdown",
   "id": "ebb7b362",
   "metadata": {},
   "source": [
    "<h3>По каждому товару узнаем, в какой день недели его чаще всего покупали.</h3>"
   ]
  },
  {
   "cell_type": "markdown",
   "id": "88558b3f",
   "metadata": {},
   "source": [
    "Создаем таблицу purchase_frequency объединением таблиц order_items и orders, отбираем только выполненные заказы со статусом \"delivered\" и берем только нужные для этого задания столбцы ('product_id', 'order_purchase_timestamp', 'order_status'). "
   ]
  },
  {
   "cell_type": "code",
   "execution_count": 25,
   "id": "92761199",
   "metadata": {},
   "outputs": [
    {
     "data": {
      "text/html": [
       "<div>\n",
       "<style scoped>\n",
       "    .dataframe tbody tr th:only-of-type {\n",
       "        vertical-align: middle;\n",
       "    }\n",
       "\n",
       "    .dataframe tbody tr th {\n",
       "        vertical-align: top;\n",
       "    }\n",
       "\n",
       "    .dataframe thead th {\n",
       "        text-align: right;\n",
       "    }\n",
       "</style>\n",
       "<table border=\"1\" class=\"dataframe\">\n",
       "  <thead>\n",
       "    <tr style=\"text-align: right;\">\n",
       "      <th></th>\n",
       "      <th>product_id</th>\n",
       "      <th>order_purchase_timestamp</th>\n",
       "      <th>order_status</th>\n",
       "    </tr>\n",
       "  </thead>\n",
       "  <tbody>\n",
       "    <tr>\n",
       "      <th>0</th>\n",
       "      <td>4244733e06e7ecb4970a6e2683c13e61</td>\n",
       "      <td>2017-09-13 08:59:02</td>\n",
       "      <td>delivered</td>\n",
       "    </tr>\n",
       "    <tr>\n",
       "      <th>1</th>\n",
       "      <td>e5f2d52b802189ee658865ca93d83a8f</td>\n",
       "      <td>2017-04-26 10:53:06</td>\n",
       "      <td>delivered</td>\n",
       "    </tr>\n",
       "    <tr>\n",
       "      <th>2</th>\n",
       "      <td>c777355d18b72b67abbeef9df44fd0fd</td>\n",
       "      <td>2018-01-14 14:33:31</td>\n",
       "      <td>delivered</td>\n",
       "    </tr>\n",
       "    <tr>\n",
       "      <th>3</th>\n",
       "      <td>7634da152a4610f1595efa32f14722fc</td>\n",
       "      <td>2018-08-08 10:00:35</td>\n",
       "      <td>delivered</td>\n",
       "    </tr>\n",
       "    <tr>\n",
       "      <th>4</th>\n",
       "      <td>ac6c3623068f30de03045865e4e10089</td>\n",
       "      <td>2017-02-04 13:57:51</td>\n",
       "      <td>delivered</td>\n",
       "    </tr>\n",
       "  </tbody>\n",
       "</table>\n",
       "</div>"
      ],
      "text/plain": [
       "                         product_id order_purchase_timestamp order_status\n",
       "0  4244733e06e7ecb4970a6e2683c13e61      2017-09-13 08:59:02    delivered\n",
       "1  e5f2d52b802189ee658865ca93d83a8f      2017-04-26 10:53:06    delivered\n",
       "2  c777355d18b72b67abbeef9df44fd0fd      2018-01-14 14:33:31    delivered\n",
       "3  7634da152a4610f1595efa32f14722fc      2018-08-08 10:00:35    delivered\n",
       "4  ac6c3623068f30de03045865e4e10089      2017-02-04 13:57:51    delivered"
      ]
     },
     "execution_count": 25,
     "metadata": {},
     "output_type": "execute_result"
    }
   ],
   "source": [
    "purchase_frequency = (order_items.merge(orders.query('order_status == \"delivered\"'), how='left', on='order_id')\n",
    "                      [['product_id', 'order_purchase_timestamp', 'order_status']])\n",
    "\n",
    "purchase_frequency.head()"
   ]
  },
  {
   "cell_type": "markdown",
   "id": "2d6d646d",
   "metadata": {},
   "source": [
    "Меняем столбец order_purchase_timestamp так чтобы в нем хранились названия дней недели в которые пользователь создал заказ."
   ]
  },
  {
   "cell_type": "code",
   "execution_count": 26,
   "id": "32a93d98",
   "metadata": {},
   "outputs": [
    {
     "data": {
      "text/html": [
       "<div>\n",
       "<style scoped>\n",
       "    .dataframe tbody tr th:only-of-type {\n",
       "        vertical-align: middle;\n",
       "    }\n",
       "\n",
       "    .dataframe tbody tr th {\n",
       "        vertical-align: top;\n",
       "    }\n",
       "\n",
       "    .dataframe thead th {\n",
       "        text-align: right;\n",
       "    }\n",
       "</style>\n",
       "<table border=\"1\" class=\"dataframe\">\n",
       "  <thead>\n",
       "    <tr style=\"text-align: right;\">\n",
       "      <th></th>\n",
       "      <th>product_id</th>\n",
       "      <th>order_purchase_timestamp</th>\n",
       "      <th>order_status</th>\n",
       "    </tr>\n",
       "  </thead>\n",
       "  <tbody>\n",
       "    <tr>\n",
       "      <th>0</th>\n",
       "      <td>4244733e06e7ecb4970a6e2683c13e61</td>\n",
       "      <td>Wednesday</td>\n",
       "      <td>delivered</td>\n",
       "    </tr>\n",
       "    <tr>\n",
       "      <th>1</th>\n",
       "      <td>e5f2d52b802189ee658865ca93d83a8f</td>\n",
       "      <td>Wednesday</td>\n",
       "      <td>delivered</td>\n",
       "    </tr>\n",
       "    <tr>\n",
       "      <th>2</th>\n",
       "      <td>c777355d18b72b67abbeef9df44fd0fd</td>\n",
       "      <td>Sunday</td>\n",
       "      <td>delivered</td>\n",
       "    </tr>\n",
       "    <tr>\n",
       "      <th>3</th>\n",
       "      <td>7634da152a4610f1595efa32f14722fc</td>\n",
       "      <td>Wednesday</td>\n",
       "      <td>delivered</td>\n",
       "    </tr>\n",
       "    <tr>\n",
       "      <th>4</th>\n",
       "      <td>ac6c3623068f30de03045865e4e10089</td>\n",
       "      <td>Saturday</td>\n",
       "      <td>delivered</td>\n",
       "    </tr>\n",
       "  </tbody>\n",
       "</table>\n",
       "</div>"
      ],
      "text/plain": [
       "                         product_id order_purchase_timestamp order_status\n",
       "0  4244733e06e7ecb4970a6e2683c13e61                Wednesday    delivered\n",
       "1  e5f2d52b802189ee658865ca93d83a8f                Wednesday    delivered\n",
       "2  c777355d18b72b67abbeef9df44fd0fd                   Sunday    delivered\n",
       "3  7634da152a4610f1595efa32f14722fc                Wednesday    delivered\n",
       "4  ac6c3623068f30de03045865e4e10089                 Saturday    delivered"
      ]
     },
     "execution_count": 26,
     "metadata": {},
     "output_type": "execute_result"
    }
   ],
   "source": [
    "purchase_frequency['order_purchase_timestamp'] = purchase_frequency.order_purchase_timestamp.dt.day_name()\n",
    "                                                  \n",
    "purchase_frequency.head()"
   ]
  },
  {
   "cell_type": "markdown",
   "id": "3952cd9d",
   "metadata": {},
   "source": [
    "Подсчитываем для каждого товара и для каждого дня недели количество доставленных заказов. Для удобства переименовываем столбцы в week_day и quantity."
   ]
  },
  {
   "cell_type": "code",
   "execution_count": 27,
   "id": "a6a08bd2",
   "metadata": {},
   "outputs": [
    {
     "data": {
      "text/html": [
       "<div>\n",
       "<style scoped>\n",
       "    .dataframe tbody tr th:only-of-type {\n",
       "        vertical-align: middle;\n",
       "    }\n",
       "\n",
       "    .dataframe tbody tr th {\n",
       "        vertical-align: top;\n",
       "    }\n",
       "\n",
       "    .dataframe thead th {\n",
       "        text-align: right;\n",
       "    }\n",
       "</style>\n",
       "<table border=\"1\" class=\"dataframe\">\n",
       "  <thead>\n",
       "    <tr style=\"text-align: right;\">\n",
       "      <th></th>\n",
       "      <th>product_id</th>\n",
       "      <th>week_day</th>\n",
       "      <th>quantity</th>\n",
       "    </tr>\n",
       "  </thead>\n",
       "  <tbody>\n",
       "    <tr>\n",
       "      <th>0</th>\n",
       "      <td>00066f42aeeb9f3007548bb9d3f33c38</td>\n",
       "      <td>Sunday</td>\n",
       "      <td>1</td>\n",
       "    </tr>\n",
       "    <tr>\n",
       "      <th>1</th>\n",
       "      <td>00088930e925c41fd95ebfe695fd2655</td>\n",
       "      <td>Tuesday</td>\n",
       "      <td>1</td>\n",
       "    </tr>\n",
       "    <tr>\n",
       "      <th>2</th>\n",
       "      <td>0009406fd7479715e4bef61dd91f2462</td>\n",
       "      <td>Thursday</td>\n",
       "      <td>1</td>\n",
       "    </tr>\n",
       "    <tr>\n",
       "      <th>3</th>\n",
       "      <td>000b8f95fcb9e0096488278317764d19</td>\n",
       "      <td>Friday</td>\n",
       "      <td>1</td>\n",
       "    </tr>\n",
       "    <tr>\n",
       "      <th>4</th>\n",
       "      <td>000b8f95fcb9e0096488278317764d19</td>\n",
       "      <td>Wednesday</td>\n",
       "      <td>1</td>\n",
       "    </tr>\n",
       "  </tbody>\n",
       "</table>\n",
       "</div>"
      ],
      "text/plain": [
       "                         product_id   week_day  quantity\n",
       "0  00066f42aeeb9f3007548bb9d3f33c38     Sunday         1\n",
       "1  00088930e925c41fd95ebfe695fd2655    Tuesday         1\n",
       "2  0009406fd7479715e4bef61dd91f2462   Thursday         1\n",
       "3  000b8f95fcb9e0096488278317764d19     Friday         1\n",
       "4  000b8f95fcb9e0096488278317764d19  Wednesday         1"
      ]
     },
     "execution_count": 27,
     "metadata": {},
     "output_type": "execute_result"
    }
   ],
   "source": [
    "purchase_frequency = (purchase_frequency\n",
    "                     .groupby(['product_id', 'order_purchase_timestamp'], as_index=False)\n",
    "                     .order_status\n",
    "                     .count()\n",
    "                     .rename(columns={'order_purchase_timestamp': 'week_day',\n",
    "                                     'order_status': 'quantity'}))\n",
    "\n",
    "purchase_frequency.head()"
   ]
  },
  {
   "cell_type": "markdown",
   "id": "b8c66d0c",
   "metadata": {},
   "source": [
    "Объединяем week_day через запятую в тех колонках для которых product_id и quantity одинаковые чтобы в случае одинакового количества заказов товара в разные дни недели получать все эти дни. Сортируем значения внутри каждого product_id по возрастанию quantity. "
   ]
  },
  {
   "cell_type": "code",
   "execution_count": 28,
   "id": "1c3d7e99",
   "metadata": {},
   "outputs": [
    {
     "data": {
      "text/html": [
       "<div>\n",
       "<style scoped>\n",
       "    .dataframe tbody tr th:only-of-type {\n",
       "        vertical-align: middle;\n",
       "    }\n",
       "\n",
       "    .dataframe tbody tr th {\n",
       "        vertical-align: top;\n",
       "    }\n",
       "\n",
       "    .dataframe thead th {\n",
       "        text-align: right;\n",
       "    }\n",
       "</style>\n",
       "<table border=\"1\" class=\"dataframe\">\n",
       "  <thead>\n",
       "    <tr style=\"text-align: right;\">\n",
       "      <th></th>\n",
       "      <th>product_id</th>\n",
       "      <th>quantity</th>\n",
       "      <th>week_day</th>\n",
       "    </tr>\n",
       "  </thead>\n",
       "  <tbody>\n",
       "    <tr>\n",
       "      <th>0</th>\n",
       "      <td>00066f42aeeb9f3007548bb9d3f33c38</td>\n",
       "      <td>1</td>\n",
       "      <td>Sunday</td>\n",
       "    </tr>\n",
       "    <tr>\n",
       "      <th>1</th>\n",
       "      <td>00088930e925c41fd95ebfe695fd2655</td>\n",
       "      <td>1</td>\n",
       "      <td>Tuesday</td>\n",
       "    </tr>\n",
       "    <tr>\n",
       "      <th>2</th>\n",
       "      <td>0009406fd7479715e4bef61dd91f2462</td>\n",
       "      <td>1</td>\n",
       "      <td>Thursday</td>\n",
       "    </tr>\n",
       "    <tr>\n",
       "      <th>3</th>\n",
       "      <td>000b8f95fcb9e0096488278317764d19</td>\n",
       "      <td>1</td>\n",
       "      <td>Friday, Wednesday</td>\n",
       "    </tr>\n",
       "    <tr>\n",
       "      <th>4</th>\n",
       "      <td>000d9be29b5207b54e86aa1b1ac54872</td>\n",
       "      <td>1</td>\n",
       "      <td>Tuesday</td>\n",
       "    </tr>\n",
       "  </tbody>\n",
       "</table>\n",
       "</div>"
      ],
      "text/plain": [
       "                         product_id  quantity           week_day\n",
       "0  00066f42aeeb9f3007548bb9d3f33c38         1             Sunday\n",
       "1  00088930e925c41fd95ebfe695fd2655         1            Tuesday\n",
       "2  0009406fd7479715e4bef61dd91f2462         1           Thursday\n",
       "3  000b8f95fcb9e0096488278317764d19         1  Friday, Wednesday\n",
       "4  000d9be29b5207b54e86aa1b1ac54872         1            Tuesday"
      ]
     },
     "execution_count": 28,
     "metadata": {},
     "output_type": "execute_result"
    }
   ],
   "source": [
    "purchase_frequency = (purchase_frequency.groupby(['product_id', 'quantity'], as_index=False)\n",
    "                                       .week_day.apply(lambda x: ', '.join(x))\n",
    "                                       .sort_values(['product_id', 'quantity']))\n",
    "purchase_frequency.head()"
   ]
  },
  {
   "cell_type": "markdown",
   "id": "fdefb75f",
   "metadata": {},
   "source": [
    "Для каждого товара выводим  последний день недели (он будет максимальным по количеству покупок поскольку мы провели сортировку в предидущем пункте), а также максимальное quantity (можно также выводить последнее, но разнообразим запрос:))."
   ]
  },
  {
   "cell_type": "code",
   "execution_count": 29,
   "id": "68d99ee7",
   "metadata": {},
   "outputs": [],
   "source": [
    "purchase_frequency = (purchase_frequency.groupby(['product_id'], as_index=False)\n",
    "                      .agg({'week_day':'last', 'quantity': 'max'}))\n"
   ]
  },
  {
   "cell_type": "markdown",
   "id": "8267445b",
   "metadata": {},
   "source": [
    "Получаем таблицу в котором для каждого товара выведен день (либо дни) недели в который его покупают чаще всего, а также сумарное количество покупок даного товара в этот день."
   ]
  },
  {
   "cell_type": "code",
   "execution_count": 30,
   "id": "c6066602",
   "metadata": {},
   "outputs": [
    {
     "data": {
      "text/html": [
       "<div>\n",
       "<style scoped>\n",
       "    .dataframe tbody tr th:only-of-type {\n",
       "        vertical-align: middle;\n",
       "    }\n",
       "\n",
       "    .dataframe tbody tr th {\n",
       "        vertical-align: top;\n",
       "    }\n",
       "\n",
       "    .dataframe thead th {\n",
       "        text-align: right;\n",
       "    }\n",
       "</style>\n",
       "<table border=\"1\" class=\"dataframe\">\n",
       "  <thead>\n",
       "    <tr style=\"text-align: right;\">\n",
       "      <th></th>\n",
       "      <th>product_id</th>\n",
       "      <th>week_day</th>\n",
       "      <th>quantity</th>\n",
       "    </tr>\n",
       "  </thead>\n",
       "  <tbody>\n",
       "    <tr>\n",
       "      <th>0</th>\n",
       "      <td>00066f42aeeb9f3007548bb9d3f33c38</td>\n",
       "      <td>Sunday</td>\n",
       "      <td>1</td>\n",
       "    </tr>\n",
       "    <tr>\n",
       "      <th>1</th>\n",
       "      <td>00088930e925c41fd95ebfe695fd2655</td>\n",
       "      <td>Tuesday</td>\n",
       "      <td>1</td>\n",
       "    </tr>\n",
       "    <tr>\n",
       "      <th>2</th>\n",
       "      <td>0009406fd7479715e4bef61dd91f2462</td>\n",
       "      <td>Thursday</td>\n",
       "      <td>1</td>\n",
       "    </tr>\n",
       "    <tr>\n",
       "      <th>3</th>\n",
       "      <td>000b8f95fcb9e0096488278317764d19</td>\n",
       "      <td>Friday, Wednesday</td>\n",
       "      <td>1</td>\n",
       "    </tr>\n",
       "    <tr>\n",
       "      <th>4</th>\n",
       "      <td>000d9be29b5207b54e86aa1b1ac54872</td>\n",
       "      <td>Tuesday</td>\n",
       "      <td>1</td>\n",
       "    </tr>\n",
       "    <tr>\n",
       "      <th>...</th>\n",
       "      <td>...</td>\n",
       "      <td>...</td>\n",
       "      <td>...</td>\n",
       "    </tr>\n",
       "    <tr>\n",
       "      <th>32211</th>\n",
       "      <td>fff6177642830a9a94a0f2cba5e476d1</td>\n",
       "      <td>Saturday, Sunday</td>\n",
       "      <td>1</td>\n",
       "    </tr>\n",
       "    <tr>\n",
       "      <th>32212</th>\n",
       "      <td>fff81cc3158d2725c0655ab9ba0f712c</td>\n",
       "      <td>Monday</td>\n",
       "      <td>1</td>\n",
       "    </tr>\n",
       "    <tr>\n",
       "      <th>32213</th>\n",
       "      <td>fff9553ac224cec9d15d49f5a263411f</td>\n",
       "      <td>Friday</td>\n",
       "      <td>1</td>\n",
       "    </tr>\n",
       "    <tr>\n",
       "      <th>32214</th>\n",
       "      <td>fffdb2d0ec8d6a61f0a0a0db3f25b441</td>\n",
       "      <td>Tuesday</td>\n",
       "      <td>2</td>\n",
       "    </tr>\n",
       "    <tr>\n",
       "      <th>32215</th>\n",
       "      <td>fffe9eeff12fcbd74a2f2b007dde0c58</td>\n",
       "      <td>Wednesday</td>\n",
       "      <td>1</td>\n",
       "    </tr>\n",
       "  </tbody>\n",
       "</table>\n",
       "<p>32216 rows × 3 columns</p>\n",
       "</div>"
      ],
      "text/plain": [
       "                             product_id           week_day  quantity\n",
       "0      00066f42aeeb9f3007548bb9d3f33c38             Sunday         1\n",
       "1      00088930e925c41fd95ebfe695fd2655            Tuesday         1\n",
       "2      0009406fd7479715e4bef61dd91f2462           Thursday         1\n",
       "3      000b8f95fcb9e0096488278317764d19  Friday, Wednesday         1\n",
       "4      000d9be29b5207b54e86aa1b1ac54872            Tuesday         1\n",
       "...                                 ...                ...       ...\n",
       "32211  fff6177642830a9a94a0f2cba5e476d1   Saturday, Sunday         1\n",
       "32212  fff81cc3158d2725c0655ab9ba0f712c             Monday         1\n",
       "32213  fff9553ac224cec9d15d49f5a263411f             Friday         1\n",
       "32214  fffdb2d0ec8d6a61f0a0a0db3f25b441            Tuesday         2\n",
       "32215  fffe9eeff12fcbd74a2f2b007dde0c58          Wednesday         1\n",
       "\n",
       "[32216 rows x 3 columns]"
      ]
     },
     "execution_count": 30,
     "metadata": {},
     "output_type": "execute_result"
    }
   ],
   "source": [
    "purchase_frequency"
   ]
  },
  {
   "cell_type": "markdown",
   "id": "7d9a271b",
   "metadata": {},
   "source": [
    "<h3>Узнаем сколько у каждого пользователя в среднем покупок в неделю (по месяцам). </h3>"
   ]
  },
  {
   "cell_type": "markdown",
   "id": "b873621e",
   "metadata": {},
   "source": [
    "Создаем таблицу average_purchases. Выбираем в нее из объединенных таблиц customers и orders только выполненные заказы (со статусом \"delivered\"), а также берем только нужные для этого задания колонки 'customer_unique_id', 'customer_id', 'order_purchase_timestamp'"
   ]
  },
  {
   "cell_type": "code",
   "execution_count": 31,
   "id": "e92b1921",
   "metadata": {
    "scrolled": true
   },
   "outputs": [
    {
     "data": {
      "text/html": [
       "<div>\n",
       "<style scoped>\n",
       "    .dataframe tbody tr th:only-of-type {\n",
       "        vertical-align: middle;\n",
       "    }\n",
       "\n",
       "    .dataframe tbody tr th {\n",
       "        vertical-align: top;\n",
       "    }\n",
       "\n",
       "    .dataframe thead th {\n",
       "        text-align: right;\n",
       "    }\n",
       "</style>\n",
       "<table border=\"1\" class=\"dataframe\">\n",
       "  <thead>\n",
       "    <tr style=\"text-align: right;\">\n",
       "      <th></th>\n",
       "      <th>customer_unique_id</th>\n",
       "      <th>customer_id</th>\n",
       "      <th>order_purchase_timestamp</th>\n",
       "    </tr>\n",
       "  </thead>\n",
       "  <tbody>\n",
       "    <tr>\n",
       "      <th>0</th>\n",
       "      <td>861eff4711a542e4b93843c6dd7febb0</td>\n",
       "      <td>06b8999e2fba1a1fbc88172c00ba8bc7</td>\n",
       "      <td>2017-05-16 15:05:35</td>\n",
       "    </tr>\n",
       "    <tr>\n",
       "      <th>1</th>\n",
       "      <td>290c77bc529b7ac935b93aa66c333dc3</td>\n",
       "      <td>18955e83d337fd6b2def6b18a428ac77</td>\n",
       "      <td>2018-01-12 20:48:24</td>\n",
       "    </tr>\n",
       "    <tr>\n",
       "      <th>2</th>\n",
       "      <td>060e732b5b29e8181a18229c7b0b2b5e</td>\n",
       "      <td>4e7b3e00288586ebd08712fdd0374a03</td>\n",
       "      <td>2018-05-19 16:07:45</td>\n",
       "    </tr>\n",
       "    <tr>\n",
       "      <th>3</th>\n",
       "      <td>259dac757896d24d7702b9acbbff3f3c</td>\n",
       "      <td>b2b6027bc5c5109e529d4dc6358b12c3</td>\n",
       "      <td>2018-03-13 16:06:38</td>\n",
       "    </tr>\n",
       "    <tr>\n",
       "      <th>4</th>\n",
       "      <td>345ecd01c38d18a9036ed96c73b8d066</td>\n",
       "      <td>4f2d8ab171c80ec8364f7c12e35b23ad</td>\n",
       "      <td>2018-07-29 09:51:30</td>\n",
       "    </tr>\n",
       "  </tbody>\n",
       "</table>\n",
       "</div>"
      ],
      "text/plain": [
       "                 customer_unique_id                       customer_id  \\\n",
       "0  861eff4711a542e4b93843c6dd7febb0  06b8999e2fba1a1fbc88172c00ba8bc7   \n",
       "1  290c77bc529b7ac935b93aa66c333dc3  18955e83d337fd6b2def6b18a428ac77   \n",
       "2  060e732b5b29e8181a18229c7b0b2b5e  4e7b3e00288586ebd08712fdd0374a03   \n",
       "3  259dac757896d24d7702b9acbbff3f3c  b2b6027bc5c5109e529d4dc6358b12c3   \n",
       "4  345ecd01c38d18a9036ed96c73b8d066  4f2d8ab171c80ec8364f7c12e35b23ad   \n",
       "\n",
       "  order_purchase_timestamp  \n",
       "0      2017-05-16 15:05:35  \n",
       "1      2018-01-12 20:48:24  \n",
       "2      2018-05-19 16:07:45  \n",
       "3      2018-03-13 16:06:38  \n",
       "4      2018-07-29 09:51:30  "
      ]
     },
     "execution_count": 31,
     "metadata": {},
     "output_type": "execute_result"
    }
   ],
   "source": [
    "average_purchases = (customers_orders[customers_orders.order_status == \"delivered\"]\n",
    "                     [['customer_unique_id', 'customer_id', 'order_purchase_timestamp']])\n",
    "average_purchases.head()"
   ]
  },
  {
   "cell_type": "markdown",
   "id": "cf72650c",
   "metadata": {},
   "source": [
    "Создаем столбец day в который записываем количество дней в текущем месяце для каждого order_purchase_timestamp."
   ]
  },
  {
   "cell_type": "code",
   "execution_count": 32,
   "id": "8a4bd6f2",
   "metadata": {},
   "outputs": [
    {
     "data": {
      "text/html": [
       "<div>\n",
       "<style scoped>\n",
       "    .dataframe tbody tr th:only-of-type {\n",
       "        vertical-align: middle;\n",
       "    }\n",
       "\n",
       "    .dataframe tbody tr th {\n",
       "        vertical-align: top;\n",
       "    }\n",
       "\n",
       "    .dataframe thead th {\n",
       "        text-align: right;\n",
       "    }\n",
       "</style>\n",
       "<table border=\"1\" class=\"dataframe\">\n",
       "  <thead>\n",
       "    <tr style=\"text-align: right;\">\n",
       "      <th></th>\n",
       "      <th>customer_unique_id</th>\n",
       "      <th>customer_id</th>\n",
       "      <th>order_purchase_timestamp</th>\n",
       "      <th>day</th>\n",
       "    </tr>\n",
       "  </thead>\n",
       "  <tbody>\n",
       "    <tr>\n",
       "      <th>0</th>\n",
       "      <td>861eff4711a542e4b93843c6dd7febb0</td>\n",
       "      <td>06b8999e2fba1a1fbc88172c00ba8bc7</td>\n",
       "      <td>2017-05-16 15:05:35</td>\n",
       "      <td>31</td>\n",
       "    </tr>\n",
       "    <tr>\n",
       "      <th>1</th>\n",
       "      <td>290c77bc529b7ac935b93aa66c333dc3</td>\n",
       "      <td>18955e83d337fd6b2def6b18a428ac77</td>\n",
       "      <td>2018-01-12 20:48:24</td>\n",
       "      <td>31</td>\n",
       "    </tr>\n",
       "    <tr>\n",
       "      <th>2</th>\n",
       "      <td>060e732b5b29e8181a18229c7b0b2b5e</td>\n",
       "      <td>4e7b3e00288586ebd08712fdd0374a03</td>\n",
       "      <td>2018-05-19 16:07:45</td>\n",
       "      <td>31</td>\n",
       "    </tr>\n",
       "    <tr>\n",
       "      <th>3</th>\n",
       "      <td>259dac757896d24d7702b9acbbff3f3c</td>\n",
       "      <td>b2b6027bc5c5109e529d4dc6358b12c3</td>\n",
       "      <td>2018-03-13 16:06:38</td>\n",
       "      <td>31</td>\n",
       "    </tr>\n",
       "    <tr>\n",
       "      <th>4</th>\n",
       "      <td>345ecd01c38d18a9036ed96c73b8d066</td>\n",
       "      <td>4f2d8ab171c80ec8364f7c12e35b23ad</td>\n",
       "      <td>2018-07-29 09:51:30</td>\n",
       "      <td>31</td>\n",
       "    </tr>\n",
       "  </tbody>\n",
       "</table>\n",
       "</div>"
      ],
      "text/plain": [
       "                 customer_unique_id                       customer_id  \\\n",
       "0  861eff4711a542e4b93843c6dd7febb0  06b8999e2fba1a1fbc88172c00ba8bc7   \n",
       "1  290c77bc529b7ac935b93aa66c333dc3  18955e83d337fd6b2def6b18a428ac77   \n",
       "2  060e732b5b29e8181a18229c7b0b2b5e  4e7b3e00288586ebd08712fdd0374a03   \n",
       "3  259dac757896d24d7702b9acbbff3f3c  b2b6027bc5c5109e529d4dc6358b12c3   \n",
       "4  345ecd01c38d18a9036ed96c73b8d066  4f2d8ab171c80ec8364f7c12e35b23ad   \n",
       "\n",
       "  order_purchase_timestamp  day  \n",
       "0      2017-05-16 15:05:35   31  \n",
       "1      2018-01-12 20:48:24   31  \n",
       "2      2018-05-19 16:07:45   31  \n",
       "3      2018-03-13 16:06:38   31  \n",
       "4      2018-07-29 09:51:30   31  "
      ]
     },
     "execution_count": 32,
     "metadata": {},
     "output_type": "execute_result"
    }
   ],
   "source": [
    "average_purchases['day'] =  average_purchases['order_purchase_timestamp'].dt.days_in_month\n",
    "average_purchases.head()"
   ]
  },
  {
   "cell_type": "markdown",
   "id": "89e99edd",
   "metadata": {},
   "source": [
    "Создаем столбец year в который записываем год когда был создан заказ."
   ]
  },
  {
   "cell_type": "code",
   "execution_count": 33,
   "id": "dd6bc146",
   "metadata": {
    "scrolled": true
   },
   "outputs": [
    {
     "data": {
      "text/html": [
       "<div>\n",
       "<style scoped>\n",
       "    .dataframe tbody tr th:only-of-type {\n",
       "        vertical-align: middle;\n",
       "    }\n",
       "\n",
       "    .dataframe tbody tr th {\n",
       "        vertical-align: top;\n",
       "    }\n",
       "\n",
       "    .dataframe thead th {\n",
       "        text-align: right;\n",
       "    }\n",
       "</style>\n",
       "<table border=\"1\" class=\"dataframe\">\n",
       "  <thead>\n",
       "    <tr style=\"text-align: right;\">\n",
       "      <th></th>\n",
       "      <th>customer_unique_id</th>\n",
       "      <th>customer_id</th>\n",
       "      <th>order_purchase_timestamp</th>\n",
       "      <th>day</th>\n",
       "      <th>year</th>\n",
       "    </tr>\n",
       "  </thead>\n",
       "  <tbody>\n",
       "    <tr>\n",
       "      <th>0</th>\n",
       "      <td>861eff4711a542e4b93843c6dd7febb0</td>\n",
       "      <td>06b8999e2fba1a1fbc88172c00ba8bc7</td>\n",
       "      <td>2017-05-16 15:05:35</td>\n",
       "      <td>31</td>\n",
       "      <td>2017</td>\n",
       "    </tr>\n",
       "    <tr>\n",
       "      <th>1</th>\n",
       "      <td>290c77bc529b7ac935b93aa66c333dc3</td>\n",
       "      <td>18955e83d337fd6b2def6b18a428ac77</td>\n",
       "      <td>2018-01-12 20:48:24</td>\n",
       "      <td>31</td>\n",
       "      <td>2018</td>\n",
       "    </tr>\n",
       "    <tr>\n",
       "      <th>2</th>\n",
       "      <td>060e732b5b29e8181a18229c7b0b2b5e</td>\n",
       "      <td>4e7b3e00288586ebd08712fdd0374a03</td>\n",
       "      <td>2018-05-19 16:07:45</td>\n",
       "      <td>31</td>\n",
       "      <td>2018</td>\n",
       "    </tr>\n",
       "    <tr>\n",
       "      <th>3</th>\n",
       "      <td>259dac757896d24d7702b9acbbff3f3c</td>\n",
       "      <td>b2b6027bc5c5109e529d4dc6358b12c3</td>\n",
       "      <td>2018-03-13 16:06:38</td>\n",
       "      <td>31</td>\n",
       "      <td>2018</td>\n",
       "    </tr>\n",
       "    <tr>\n",
       "      <th>4</th>\n",
       "      <td>345ecd01c38d18a9036ed96c73b8d066</td>\n",
       "      <td>4f2d8ab171c80ec8364f7c12e35b23ad</td>\n",
       "      <td>2018-07-29 09:51:30</td>\n",
       "      <td>31</td>\n",
       "      <td>2018</td>\n",
       "    </tr>\n",
       "  </tbody>\n",
       "</table>\n",
       "</div>"
      ],
      "text/plain": [
       "                 customer_unique_id                       customer_id  \\\n",
       "0  861eff4711a542e4b93843c6dd7febb0  06b8999e2fba1a1fbc88172c00ba8bc7   \n",
       "1  290c77bc529b7ac935b93aa66c333dc3  18955e83d337fd6b2def6b18a428ac77   \n",
       "2  060e732b5b29e8181a18229c7b0b2b5e  4e7b3e00288586ebd08712fdd0374a03   \n",
       "3  259dac757896d24d7702b9acbbff3f3c  b2b6027bc5c5109e529d4dc6358b12c3   \n",
       "4  345ecd01c38d18a9036ed96c73b8d066  4f2d8ab171c80ec8364f7c12e35b23ad   \n",
       "\n",
       "  order_purchase_timestamp  day  year  \n",
       "0      2017-05-16 15:05:35   31  2017  \n",
       "1      2018-01-12 20:48:24   31  2018  \n",
       "2      2018-05-19 16:07:45   31  2018  \n",
       "3      2018-03-13 16:06:38   31  2018  \n",
       "4      2018-07-29 09:51:30   31  2018  "
      ]
     },
     "execution_count": 33,
     "metadata": {},
     "output_type": "execute_result"
    }
   ],
   "source": [
    "average_purchases['year'] =  average_purchases['order_purchase_timestamp'].dt.year\n",
    "average_purchases.head()"
   ]
  },
  {
   "cell_type": "markdown",
   "id": "6bd94dfb",
   "metadata": {},
   "source": [
    "Заменяем значения в столбце order_purchase_timestamp оставляя только название месяца в который был создан заказ."
   ]
  },
  {
   "cell_type": "code",
   "execution_count": 34,
   "id": "98d12cda",
   "metadata": {},
   "outputs": [
    {
     "data": {
      "text/html": [
       "<div>\n",
       "<style scoped>\n",
       "    .dataframe tbody tr th:only-of-type {\n",
       "        vertical-align: middle;\n",
       "    }\n",
       "\n",
       "    .dataframe tbody tr th {\n",
       "        vertical-align: top;\n",
       "    }\n",
       "\n",
       "    .dataframe thead th {\n",
       "        text-align: right;\n",
       "    }\n",
       "</style>\n",
       "<table border=\"1\" class=\"dataframe\">\n",
       "  <thead>\n",
       "    <tr style=\"text-align: right;\">\n",
       "      <th></th>\n",
       "      <th>customer_unique_id</th>\n",
       "      <th>customer_id</th>\n",
       "      <th>order_purchase_timestamp</th>\n",
       "      <th>day</th>\n",
       "      <th>year</th>\n",
       "    </tr>\n",
       "  </thead>\n",
       "  <tbody>\n",
       "    <tr>\n",
       "      <th>0</th>\n",
       "      <td>861eff4711a542e4b93843c6dd7febb0</td>\n",
       "      <td>06b8999e2fba1a1fbc88172c00ba8bc7</td>\n",
       "      <td>May</td>\n",
       "      <td>31</td>\n",
       "      <td>2017</td>\n",
       "    </tr>\n",
       "    <tr>\n",
       "      <th>1</th>\n",
       "      <td>290c77bc529b7ac935b93aa66c333dc3</td>\n",
       "      <td>18955e83d337fd6b2def6b18a428ac77</td>\n",
       "      <td>January</td>\n",
       "      <td>31</td>\n",
       "      <td>2018</td>\n",
       "    </tr>\n",
       "    <tr>\n",
       "      <th>2</th>\n",
       "      <td>060e732b5b29e8181a18229c7b0b2b5e</td>\n",
       "      <td>4e7b3e00288586ebd08712fdd0374a03</td>\n",
       "      <td>May</td>\n",
       "      <td>31</td>\n",
       "      <td>2018</td>\n",
       "    </tr>\n",
       "    <tr>\n",
       "      <th>3</th>\n",
       "      <td>259dac757896d24d7702b9acbbff3f3c</td>\n",
       "      <td>b2b6027bc5c5109e529d4dc6358b12c3</td>\n",
       "      <td>March</td>\n",
       "      <td>31</td>\n",
       "      <td>2018</td>\n",
       "    </tr>\n",
       "    <tr>\n",
       "      <th>4</th>\n",
       "      <td>345ecd01c38d18a9036ed96c73b8d066</td>\n",
       "      <td>4f2d8ab171c80ec8364f7c12e35b23ad</td>\n",
       "      <td>July</td>\n",
       "      <td>31</td>\n",
       "      <td>2018</td>\n",
       "    </tr>\n",
       "  </tbody>\n",
       "</table>\n",
       "</div>"
      ],
      "text/plain": [
       "                 customer_unique_id                       customer_id  \\\n",
       "0  861eff4711a542e4b93843c6dd7febb0  06b8999e2fba1a1fbc88172c00ba8bc7   \n",
       "1  290c77bc529b7ac935b93aa66c333dc3  18955e83d337fd6b2def6b18a428ac77   \n",
       "2  060e732b5b29e8181a18229c7b0b2b5e  4e7b3e00288586ebd08712fdd0374a03   \n",
       "3  259dac757896d24d7702b9acbbff3f3c  b2b6027bc5c5109e529d4dc6358b12c3   \n",
       "4  345ecd01c38d18a9036ed96c73b8d066  4f2d8ab171c80ec8364f7c12e35b23ad   \n",
       "\n",
       "  order_purchase_timestamp  day  year  \n",
       "0                      May   31  2017  \n",
       "1                  January   31  2018  \n",
       "2                      May   31  2018  \n",
       "3                    March   31  2018  \n",
       "4                     July   31  2018  "
      ]
     },
     "execution_count": 34,
     "metadata": {},
     "output_type": "execute_result"
    }
   ],
   "source": [
    "average_purchases['order_purchase_timestamp'] = average_purchases['order_purchase_timestamp'].dt.month_name()\n",
    "average_purchases.head()"
   ]
  },
  {
   "cell_type": "markdown",
   "id": "103580be",
   "metadata": {},
   "source": [
    "Считаем для каждого пользователя количество их заказов в месяц (для подсчета используем позаказный id пользователей). Для удобства переименовываем колонку order_purchase_timestamp в month и колонку customer_id в quantity."
   ]
  },
  {
   "cell_type": "code",
   "execution_count": 35,
   "id": "47e4a7de",
   "metadata": {
    "scrolled": true
   },
   "outputs": [
    {
     "data": {
      "text/html": [
       "<div>\n",
       "<style scoped>\n",
       "    .dataframe tbody tr th:only-of-type {\n",
       "        vertical-align: middle;\n",
       "    }\n",
       "\n",
       "    .dataframe tbody tr th {\n",
       "        vertical-align: top;\n",
       "    }\n",
       "\n",
       "    .dataframe thead th {\n",
       "        text-align: right;\n",
       "    }\n",
       "</style>\n",
       "<table border=\"1\" class=\"dataframe\">\n",
       "  <thead>\n",
       "    <tr style=\"text-align: right;\">\n",
       "      <th></th>\n",
       "      <th>customer_unique_id</th>\n",
       "      <th>year</th>\n",
       "      <th>month</th>\n",
       "      <th>day</th>\n",
       "      <th>quantity</th>\n",
       "    </tr>\n",
       "  </thead>\n",
       "  <tbody>\n",
       "    <tr>\n",
       "      <th>0</th>\n",
       "      <td>0000366f3b9a7992bf8c76cfdf3221e2</td>\n",
       "      <td>2018</td>\n",
       "      <td>May</td>\n",
       "      <td>31</td>\n",
       "      <td>1</td>\n",
       "    </tr>\n",
       "    <tr>\n",
       "      <th>1</th>\n",
       "      <td>0000b849f77a49e4a4ce2b2a4ca5be3f</td>\n",
       "      <td>2018</td>\n",
       "      <td>May</td>\n",
       "      <td>31</td>\n",
       "      <td>1</td>\n",
       "    </tr>\n",
       "    <tr>\n",
       "      <th>2</th>\n",
       "      <td>0000f46a3911fa3c0805444483337064</td>\n",
       "      <td>2017</td>\n",
       "      <td>March</td>\n",
       "      <td>31</td>\n",
       "      <td>1</td>\n",
       "    </tr>\n",
       "    <tr>\n",
       "      <th>3</th>\n",
       "      <td>0000f6ccb0745a6a4b88665a16c9f078</td>\n",
       "      <td>2017</td>\n",
       "      <td>October</td>\n",
       "      <td>31</td>\n",
       "      <td>1</td>\n",
       "    </tr>\n",
       "    <tr>\n",
       "      <th>4</th>\n",
       "      <td>0004aac84e0df4da2b147fca70cf8255</td>\n",
       "      <td>2017</td>\n",
       "      <td>November</td>\n",
       "      <td>30</td>\n",
       "      <td>1</td>\n",
       "    </tr>\n",
       "  </tbody>\n",
       "</table>\n",
       "</div>"
      ],
      "text/plain": [
       "                 customer_unique_id  year     month  day  quantity\n",
       "0  0000366f3b9a7992bf8c76cfdf3221e2  2018       May   31         1\n",
       "1  0000b849f77a49e4a4ce2b2a4ca5be3f  2018       May   31         1\n",
       "2  0000f46a3911fa3c0805444483337064  2017     March   31         1\n",
       "3  0000f6ccb0745a6a4b88665a16c9f078  2017   October   31         1\n",
       "4  0004aac84e0df4da2b147fca70cf8255  2017  November   30         1"
      ]
     },
     "execution_count": 35,
     "metadata": {},
     "output_type": "execute_result"
    }
   ],
   "source": [
    "average_purchases = (average_purchases.groupby(['customer_unique_id', 'year', 'order_purchase_timestamp', 'day'], as_index=False)\n",
    "                     .agg({'customer_id': 'count'})\n",
    "                    .rename(columns={'order_purchase_timestamp': 'month', \n",
    "                                    'customer_id': 'quantity'}))\n",
    "average_purchases.head()"
   ]
  },
  {
   "cell_type": "markdown",
   "id": "c79fcf61",
   "metadata": {},
   "source": [
    "Создаем колонку avg_buy в которую записываем количество покупок в месяц деленное на количество недель в данном месяце (количество дней в месяце деленное на 7 дней в неделе). Полученное значение - среднее количество покупок в неделю для каждого пользователя по месяцам."
   ]
  },
  {
   "cell_type": "code",
   "execution_count": 36,
   "id": "e1398d1e",
   "metadata": {},
   "outputs": [],
   "source": [
    "average_purchases['avg_buy'] = (average_purchases['quantity'] / (average_purchases['day'] / 7))\n"
   ]
  },
  {
   "cell_type": "markdown",
   "id": "4372f0e5",
   "metadata": {},
   "source": [
    "Избавляемся от вспомогательных колонок и выводим только 'customer_unique_id', 'month', 'year', 'avg_buy'"
   ]
  },
  {
   "cell_type": "code",
   "execution_count": 37,
   "id": "ca8f89b5",
   "metadata": {},
   "outputs": [
    {
     "data": {
      "text/html": [
       "<div>\n",
       "<style scoped>\n",
       "    .dataframe tbody tr th:only-of-type {\n",
       "        vertical-align: middle;\n",
       "    }\n",
       "\n",
       "    .dataframe tbody tr th {\n",
       "        vertical-align: top;\n",
       "    }\n",
       "\n",
       "    .dataframe thead th {\n",
       "        text-align: right;\n",
       "    }\n",
       "</style>\n",
       "<table border=\"1\" class=\"dataframe\">\n",
       "  <thead>\n",
       "    <tr style=\"text-align: right;\">\n",
       "      <th></th>\n",
       "      <th>customer_unique_id</th>\n",
       "      <th>month</th>\n",
       "      <th>year</th>\n",
       "      <th>avg_buy</th>\n",
       "    </tr>\n",
       "  </thead>\n",
       "  <tbody>\n",
       "    <tr>\n",
       "      <th>0</th>\n",
       "      <td>0000366f3b9a7992bf8c76cfdf3221e2</td>\n",
       "      <td>May</td>\n",
       "      <td>2018</td>\n",
       "      <td>0.225806</td>\n",
       "    </tr>\n",
       "    <tr>\n",
       "      <th>1</th>\n",
       "      <td>0000b849f77a49e4a4ce2b2a4ca5be3f</td>\n",
       "      <td>May</td>\n",
       "      <td>2018</td>\n",
       "      <td>0.225806</td>\n",
       "    </tr>\n",
       "    <tr>\n",
       "      <th>2</th>\n",
       "      <td>0000f46a3911fa3c0805444483337064</td>\n",
       "      <td>March</td>\n",
       "      <td>2017</td>\n",
       "      <td>0.225806</td>\n",
       "    </tr>\n",
       "    <tr>\n",
       "      <th>3</th>\n",
       "      <td>0000f6ccb0745a6a4b88665a16c9f078</td>\n",
       "      <td>October</td>\n",
       "      <td>2017</td>\n",
       "      <td>0.225806</td>\n",
       "    </tr>\n",
       "    <tr>\n",
       "      <th>4</th>\n",
       "      <td>0004aac84e0df4da2b147fca70cf8255</td>\n",
       "      <td>November</td>\n",
       "      <td>2017</td>\n",
       "      <td>0.233333</td>\n",
       "    </tr>\n",
       "    <tr>\n",
       "      <th>...</th>\n",
       "      <td>...</td>\n",
       "      <td>...</td>\n",
       "      <td>...</td>\n",
       "      <td>...</td>\n",
       "    </tr>\n",
       "    <tr>\n",
       "      <th>95189</th>\n",
       "      <td>fffcf5a5ff07b0908bd4e2dbc735a684</td>\n",
       "      <td>June</td>\n",
       "      <td>2017</td>\n",
       "      <td>0.233333</td>\n",
       "    </tr>\n",
       "    <tr>\n",
       "      <th>95190</th>\n",
       "      <td>fffea47cd6d3cc0a88bd621562a9d061</td>\n",
       "      <td>December</td>\n",
       "      <td>2017</td>\n",
       "      <td>0.225806</td>\n",
       "    </tr>\n",
       "    <tr>\n",
       "      <th>95191</th>\n",
       "      <td>ffff371b4d645b6ecea244b27531430a</td>\n",
       "      <td>February</td>\n",
       "      <td>2017</td>\n",
       "      <td>0.250000</td>\n",
       "    </tr>\n",
       "    <tr>\n",
       "      <th>95192</th>\n",
       "      <td>ffff5962728ec6157033ef9805bacc48</td>\n",
       "      <td>May</td>\n",
       "      <td>2018</td>\n",
       "      <td>0.225806</td>\n",
       "    </tr>\n",
       "    <tr>\n",
       "      <th>95193</th>\n",
       "      <td>ffffd2657e2aad2907e67c3e9daecbeb</td>\n",
       "      <td>May</td>\n",
       "      <td>2017</td>\n",
       "      <td>0.225806</td>\n",
       "    </tr>\n",
       "  </tbody>\n",
       "</table>\n",
       "<p>95194 rows × 4 columns</p>\n",
       "</div>"
      ],
      "text/plain": [
       "                     customer_unique_id     month  year   avg_buy\n",
       "0      0000366f3b9a7992bf8c76cfdf3221e2       May  2018  0.225806\n",
       "1      0000b849f77a49e4a4ce2b2a4ca5be3f       May  2018  0.225806\n",
       "2      0000f46a3911fa3c0805444483337064     March  2017  0.225806\n",
       "3      0000f6ccb0745a6a4b88665a16c9f078   October  2017  0.225806\n",
       "4      0004aac84e0df4da2b147fca70cf8255  November  2017  0.233333\n",
       "...                                 ...       ...   ...       ...\n",
       "95189  fffcf5a5ff07b0908bd4e2dbc735a684      June  2017  0.233333\n",
       "95190  fffea47cd6d3cc0a88bd621562a9d061  December  2017  0.225806\n",
       "95191  ffff371b4d645b6ecea244b27531430a  February  2017  0.250000\n",
       "95192  ffff5962728ec6157033ef9805bacc48       May  2018  0.225806\n",
       "95193  ffffd2657e2aad2907e67c3e9daecbeb       May  2017  0.225806\n",
       "\n",
       "[95194 rows x 4 columns]"
      ]
     },
     "execution_count": 37,
     "metadata": {},
     "output_type": "execute_result"
    }
   ],
   "source": [
    "average_purchases[['customer_unique_id', 'month', 'year', 'avg_buy']]"
   ]
  },
  {
   "cell_type": "markdown",
   "id": "8599700f",
   "metadata": {},
   "source": [
    "<h3>Проведем когортный анализ пользователей. В период с января по декабрь, виявим когорту с самым высоким retention на 3й месяц.  </h3>"
   ]
  },
  {
   "cell_type": "markdown",
   "id": "faeda3b7",
   "metadata": {},
   "source": [
    "Создаем таблицу cogorts. Из объединенных таблиц customers и orders выбираем в таблицу cogorts минимальное значение order_purchase_timestamp для каждого пользователя (дата создания первого заказа)"
   ]
  },
  {
   "cell_type": "code",
   "execution_count": 38,
   "id": "656e5aa7",
   "metadata": {
    "scrolled": true
   },
   "outputs": [
    {
     "data": {
      "text/html": [
       "<div>\n",
       "<style scoped>\n",
       "    .dataframe tbody tr th:only-of-type {\n",
       "        vertical-align: middle;\n",
       "    }\n",
       "\n",
       "    .dataframe tbody tr th {\n",
       "        vertical-align: top;\n",
       "    }\n",
       "\n",
       "    .dataframe thead th {\n",
       "        text-align: right;\n",
       "    }\n",
       "</style>\n",
       "<table border=\"1\" class=\"dataframe\">\n",
       "  <thead>\n",
       "    <tr style=\"text-align: right;\">\n",
       "      <th></th>\n",
       "      <th>customer_unique_id</th>\n",
       "      <th>order_purchase_timestamp</th>\n",
       "    </tr>\n",
       "  </thead>\n",
       "  <tbody>\n",
       "    <tr>\n",
       "      <th>0</th>\n",
       "      <td>0000366f3b9a7992bf8c76cfdf3221e2</td>\n",
       "      <td>2018-05-10 10:56:27</td>\n",
       "    </tr>\n",
       "    <tr>\n",
       "      <th>1</th>\n",
       "      <td>0000b849f77a49e4a4ce2b2a4ca5be3f</td>\n",
       "      <td>2018-05-07 11:11:27</td>\n",
       "    </tr>\n",
       "    <tr>\n",
       "      <th>2</th>\n",
       "      <td>0000f46a3911fa3c0805444483337064</td>\n",
       "      <td>2017-03-10 21:05:03</td>\n",
       "    </tr>\n",
       "    <tr>\n",
       "      <th>3</th>\n",
       "      <td>0000f6ccb0745a6a4b88665a16c9f078</td>\n",
       "      <td>2017-10-12 20:29:41</td>\n",
       "    </tr>\n",
       "    <tr>\n",
       "      <th>4</th>\n",
       "      <td>0004aac84e0df4da2b147fca70cf8255</td>\n",
       "      <td>2017-11-14 19:45:42</td>\n",
       "    </tr>\n",
       "  </tbody>\n",
       "</table>\n",
       "</div>"
      ],
      "text/plain": [
       "                 customer_unique_id order_purchase_timestamp\n",
       "0  0000366f3b9a7992bf8c76cfdf3221e2      2018-05-10 10:56:27\n",
       "1  0000b849f77a49e4a4ce2b2a4ca5be3f      2018-05-07 11:11:27\n",
       "2  0000f46a3911fa3c0805444483337064      2017-03-10 21:05:03\n",
       "3  0000f6ccb0745a6a4b88665a16c9f078      2017-10-12 20:29:41\n",
       "4  0004aac84e0df4da2b147fca70cf8255      2017-11-14 19:45:42"
      ]
     },
     "execution_count": 38,
     "metadata": {},
     "output_type": "execute_result"
    }
   ],
   "source": [
    "cogorts = (customers_orders\n",
    " .groupby(['customer_unique_id'], as_index=False)\n",
    " .order_purchase_timestamp\n",
    " .min())\n",
    "\n",
    "cogorts.head()"
   ]
  },
  {
   "cell_type": "markdown",
   "id": "cb332b81",
   "metadata": {},
   "source": [
    "Отбираем только нужные нам значения с 1 января 2017 по 1 января 2018."
   ]
  },
  {
   "cell_type": "code",
   "execution_count": 39,
   "id": "b857a81a",
   "metadata": {},
   "outputs": [],
   "source": [
    "cogorts = cogorts.query('\"2017-01-01 00:00:00\" <= order_purchase_timestamp < \"2018-01-01 00:00:00\"')"
   ]
  },
  {
   "cell_type": "markdown",
   "id": "19a8efb0",
   "metadata": {},
   "source": [
    "Перезаписываем колонку order_purchase_timestamp оставляя в ней только год и месяц. Это и будут наши когорты. Переименуем колонку в cogort для удобства"
   ]
  },
  {
   "cell_type": "code",
   "execution_count": 40,
   "id": "30ed4f8a",
   "metadata": {},
   "outputs": [
    {
     "data": {
      "text/html": [
       "<div>\n",
       "<style scoped>\n",
       "    .dataframe tbody tr th:only-of-type {\n",
       "        vertical-align: middle;\n",
       "    }\n",
       "\n",
       "    .dataframe tbody tr th {\n",
       "        vertical-align: top;\n",
       "    }\n",
       "\n",
       "    .dataframe thead th {\n",
       "        text-align: right;\n",
       "    }\n",
       "</style>\n",
       "<table border=\"1\" class=\"dataframe\">\n",
       "  <thead>\n",
       "    <tr style=\"text-align: right;\">\n",
       "      <th></th>\n",
       "      <th>customer_unique_id</th>\n",
       "      <th>cogort</th>\n",
       "    </tr>\n",
       "  </thead>\n",
       "  <tbody>\n",
       "    <tr>\n",
       "      <th>2</th>\n",
       "      <td>0000f46a3911fa3c0805444483337064</td>\n",
       "      <td>2017-03</td>\n",
       "    </tr>\n",
       "    <tr>\n",
       "      <th>3</th>\n",
       "      <td>0000f6ccb0745a6a4b88665a16c9f078</td>\n",
       "      <td>2017-10</td>\n",
       "    </tr>\n",
       "    <tr>\n",
       "      <th>4</th>\n",
       "      <td>0004aac84e0df4da2b147fca70cf8255</td>\n",
       "      <td>2017-11</td>\n",
       "    </tr>\n",
       "    <tr>\n",
       "      <th>8</th>\n",
       "      <td>0005e1862207bf6ccc02e4228effd9a0</td>\n",
       "      <td>2017-03</td>\n",
       "    </tr>\n",
       "    <tr>\n",
       "      <th>10</th>\n",
       "      <td>0006fdc98a402fceb4eb0ee528f6a8d4</td>\n",
       "      <td>2017-07</td>\n",
       "    </tr>\n",
       "  </tbody>\n",
       "</table>\n",
       "</div>"
      ],
      "text/plain": [
       "                  customer_unique_id   cogort\n",
       "2   0000f46a3911fa3c0805444483337064  2017-03\n",
       "3   0000f6ccb0745a6a4b88665a16c9f078  2017-10\n",
       "4   0004aac84e0df4da2b147fca70cf8255  2017-11\n",
       "8   0005e1862207bf6ccc02e4228effd9a0  2017-03\n",
       "10  0006fdc98a402fceb4eb0ee528f6a8d4  2017-07"
      ]
     },
     "execution_count": 40,
     "metadata": {},
     "output_type": "execute_result"
    }
   ],
   "source": [
    "cogorts['order_purchase_timestamp'] = cogorts.order_purchase_timestamp.dt.strftime(\"%Y-%m\")\n",
    "cogorts.rename(columns={'order_purchase_timestamp': 'cogort'}, inplace=True)\n",
    "cogorts.head()"
   ]
  },
  {
   "cell_type": "markdown",
   "id": "b29a30d4",
   "metadata": {},
   "source": [
    "Создаем таблицу users_in_cogorts в которой подсчитываем сколько вышло пользователей в каждой когорте. Переименовываем получившийся столбец в full_cogort"
   ]
  },
  {
   "cell_type": "code",
   "execution_count": 41,
   "id": "bc1f5073",
   "metadata": {
    "scrolled": true
   },
   "outputs": [
    {
     "data": {
      "text/html": [
       "<div>\n",
       "<style scoped>\n",
       "    .dataframe tbody tr th:only-of-type {\n",
       "        vertical-align: middle;\n",
       "    }\n",
       "\n",
       "    .dataframe tbody tr th {\n",
       "        vertical-align: top;\n",
       "    }\n",
       "\n",
       "    .dataframe thead th {\n",
       "        text-align: right;\n",
       "    }\n",
       "</style>\n",
       "<table border=\"1\" class=\"dataframe\">\n",
       "  <thead>\n",
       "    <tr style=\"text-align: right;\">\n",
       "      <th></th>\n",
       "      <th>cogort</th>\n",
       "      <th>full_cogort</th>\n",
       "    </tr>\n",
       "  </thead>\n",
       "  <tbody>\n",
       "    <tr>\n",
       "      <th>0</th>\n",
       "      <td>2017-01</td>\n",
       "      <td>764</td>\n",
       "    </tr>\n",
       "    <tr>\n",
       "      <th>1</th>\n",
       "      <td>2017-02</td>\n",
       "      <td>1752</td>\n",
       "    </tr>\n",
       "    <tr>\n",
       "      <th>2</th>\n",
       "      <td>2017-03</td>\n",
       "      <td>2636</td>\n",
       "    </tr>\n",
       "    <tr>\n",
       "      <th>3</th>\n",
       "      <td>2017-04</td>\n",
       "      <td>2352</td>\n",
       "    </tr>\n",
       "    <tr>\n",
       "      <th>4</th>\n",
       "      <td>2017-05</td>\n",
       "      <td>3596</td>\n",
       "    </tr>\n",
       "  </tbody>\n",
       "</table>\n",
       "</div>"
      ],
      "text/plain": [
       "    cogort  full_cogort\n",
       "0  2017-01          764\n",
       "1  2017-02         1752\n",
       "2  2017-03         2636\n",
       "3  2017-04         2352\n",
       "4  2017-05         3596"
      ]
     },
     "execution_count": 41,
     "metadata": {},
     "output_type": "execute_result"
    }
   ],
   "source": [
    "users_in_cogorts = (cogorts.groupby('cogort', as_index=False)\n",
    "                    .customer_unique_id.count()\n",
    "                    .rename(columns={'customer_unique_id': 'full_cogort'}))\n",
    "users_in_cogorts.head()"
   ]
  },
  {
   "cell_type": "markdown",
   "id": "a557c3d5",
   "metadata": {},
   "source": [
    "Создаем таблицу for_cog из столбцов 'customer_unique_id' и 'order_purchase_timestamp' из объединенных таблиц customers и orders."
   ]
  },
  {
   "cell_type": "code",
   "execution_count": 42,
   "id": "f13d22fb",
   "metadata": {
    "scrolled": true
   },
   "outputs": [
    {
     "data": {
      "text/html": [
       "<div>\n",
       "<style scoped>\n",
       "    .dataframe tbody tr th:only-of-type {\n",
       "        vertical-align: middle;\n",
       "    }\n",
       "\n",
       "    .dataframe tbody tr th {\n",
       "        vertical-align: top;\n",
       "    }\n",
       "\n",
       "    .dataframe thead th {\n",
       "        text-align: right;\n",
       "    }\n",
       "</style>\n",
       "<table border=\"1\" class=\"dataframe\">\n",
       "  <thead>\n",
       "    <tr style=\"text-align: right;\">\n",
       "      <th></th>\n",
       "      <th>customer_unique_id</th>\n",
       "      <th>order_purchase_timestamp</th>\n",
       "    </tr>\n",
       "  </thead>\n",
       "  <tbody>\n",
       "    <tr>\n",
       "      <th>0</th>\n",
       "      <td>861eff4711a542e4b93843c6dd7febb0</td>\n",
       "      <td>2017-05-16 15:05:35</td>\n",
       "    </tr>\n",
       "    <tr>\n",
       "      <th>1</th>\n",
       "      <td>290c77bc529b7ac935b93aa66c333dc3</td>\n",
       "      <td>2018-01-12 20:48:24</td>\n",
       "    </tr>\n",
       "    <tr>\n",
       "      <th>2</th>\n",
       "      <td>060e732b5b29e8181a18229c7b0b2b5e</td>\n",
       "      <td>2018-05-19 16:07:45</td>\n",
       "    </tr>\n",
       "    <tr>\n",
       "      <th>3</th>\n",
       "      <td>259dac757896d24d7702b9acbbff3f3c</td>\n",
       "      <td>2018-03-13 16:06:38</td>\n",
       "    </tr>\n",
       "    <tr>\n",
       "      <th>4</th>\n",
       "      <td>345ecd01c38d18a9036ed96c73b8d066</td>\n",
       "      <td>2018-07-29 09:51:30</td>\n",
       "    </tr>\n",
       "  </tbody>\n",
       "</table>\n",
       "</div>"
      ],
      "text/plain": [
       "                 customer_unique_id order_purchase_timestamp\n",
       "0  861eff4711a542e4b93843c6dd7febb0      2017-05-16 15:05:35\n",
       "1  290c77bc529b7ac935b93aa66c333dc3      2018-01-12 20:48:24\n",
       "2  060e732b5b29e8181a18229c7b0b2b5e      2018-05-19 16:07:45\n",
       "3  259dac757896d24d7702b9acbbff3f3c      2018-03-13 16:06:38\n",
       "4  345ecd01c38d18a9036ed96c73b8d066      2018-07-29 09:51:30"
      ]
     },
     "execution_count": 42,
     "metadata": {},
     "output_type": "execute_result"
    }
   ],
   "source": [
    "for_cog = copy.copy(customers_orders\n",
    " [['customer_unique_id', 'order_purchase_timestamp']]\n",
    ")\n",
    "for_cog.head()"
   ]
  },
  {
   "cell_type": "markdown",
   "id": "cabc3269",
   "metadata": {},
   "source": [
    "Перезаписываем колонку order_purchase_timestamp оставляя в ней только год и месяц. И переименовываем ее в return_month."
   ]
  },
  {
   "cell_type": "code",
   "execution_count": 43,
   "id": "1cde5420",
   "metadata": {},
   "outputs": [],
   "source": [
    "for_cog['order_purchase_timestamp'] = for_cog.order_purchase_timestamp.dt.strftime(\"%Y-%m\")\n",
    "for_cog.rename(columns={'order_purchase_timestamp': 'return_month'}, inplace=True)"
   ]
  },
  {
   "cell_type": "markdown",
   "id": "0c21c491",
   "metadata": {},
   "source": [
    "Удаляем одинаковые значения из нашей таблицы (если пользователь возвращается несколько раз за месяц нам не нужно учитывать его повторно)"
   ]
  },
  {
   "cell_type": "code",
   "execution_count": 44,
   "id": "9326201c",
   "metadata": {
    "scrolled": true
   },
   "outputs": [
    {
     "data": {
      "text/html": [
       "<div>\n",
       "<style scoped>\n",
       "    .dataframe tbody tr th:only-of-type {\n",
       "        vertical-align: middle;\n",
       "    }\n",
       "\n",
       "    .dataframe tbody tr th {\n",
       "        vertical-align: top;\n",
       "    }\n",
       "\n",
       "    .dataframe thead th {\n",
       "        text-align: right;\n",
       "    }\n",
       "</style>\n",
       "<table border=\"1\" class=\"dataframe\">\n",
       "  <thead>\n",
       "    <tr style=\"text-align: right;\">\n",
       "      <th></th>\n",
       "      <th>customer_unique_id</th>\n",
       "      <th>return_month</th>\n",
       "    </tr>\n",
       "  </thead>\n",
       "  <tbody>\n",
       "    <tr>\n",
       "      <th>0</th>\n",
       "      <td>861eff4711a542e4b93843c6dd7febb0</td>\n",
       "      <td>2017-05</td>\n",
       "    </tr>\n",
       "    <tr>\n",
       "      <th>1</th>\n",
       "      <td>290c77bc529b7ac935b93aa66c333dc3</td>\n",
       "      <td>2018-01</td>\n",
       "    </tr>\n",
       "    <tr>\n",
       "      <th>2</th>\n",
       "      <td>060e732b5b29e8181a18229c7b0b2b5e</td>\n",
       "      <td>2018-05</td>\n",
       "    </tr>\n",
       "    <tr>\n",
       "      <th>3</th>\n",
       "      <td>259dac757896d24d7702b9acbbff3f3c</td>\n",
       "      <td>2018-03</td>\n",
       "    </tr>\n",
       "    <tr>\n",
       "      <th>4</th>\n",
       "      <td>345ecd01c38d18a9036ed96c73b8d066</td>\n",
       "      <td>2018-07</td>\n",
       "    </tr>\n",
       "  </tbody>\n",
       "</table>\n",
       "</div>"
      ],
      "text/plain": [
       "                 customer_unique_id return_month\n",
       "0  861eff4711a542e4b93843c6dd7febb0      2017-05\n",
       "1  290c77bc529b7ac935b93aa66c333dc3      2018-01\n",
       "2  060e732b5b29e8181a18229c7b0b2b5e      2018-05\n",
       "3  259dac757896d24d7702b9acbbff3f3c      2018-03\n",
       "4  345ecd01c38d18a9036ed96c73b8d066      2018-07"
      ]
     },
     "execution_count": 44,
     "metadata": {},
     "output_type": "execute_result"
    }
   ],
   "source": [
    "for_cog = for_cog.drop_duplicates()\n",
    "for_cog.head()"
   ]
  },
  {
   "cell_type": "markdown",
   "id": "a2bd9a3b",
   "metadata": {},
   "source": [
    "Объединяем таблицы cogorts и for_cog получаем таблицу в которой записаны уникальные идентификаторы пользователей, время их первого создания заказа (когорта к которой относится пользователь) и месяца всех его последующих возвращений для создания заказа. По получившейся таблице считаем сколько пользователей из каждой когорты совершили заказ в каждый из месяцев. Переименовываем получившуюся колонку в quantity. Получившуюся таблицу называем users_month_cogort. Здесь важно использование join left ведь покупки могут совершать пользователи которые не входят ни в одну из наших когорт (совершившие первую покупку не в 2017 году), при использовании inner join мы бы получали значения NAN в колонке cogort."
   ]
  },
  {
   "cell_type": "code",
   "execution_count": 45,
   "id": "2f153bea",
   "metadata": {
    "scrolled": true
   },
   "outputs": [
    {
     "data": {
      "text/html": [
       "<div>\n",
       "<style scoped>\n",
       "    .dataframe tbody tr th:only-of-type {\n",
       "        vertical-align: middle;\n",
       "    }\n",
       "\n",
       "    .dataframe tbody tr th {\n",
       "        vertical-align: top;\n",
       "    }\n",
       "\n",
       "    .dataframe thead th {\n",
       "        text-align: right;\n",
       "    }\n",
       "</style>\n",
       "<table border=\"1\" class=\"dataframe\">\n",
       "  <thead>\n",
       "    <tr style=\"text-align: right;\">\n",
       "      <th></th>\n",
       "      <th>cogort</th>\n",
       "      <th>return_month</th>\n",
       "      <th>quantity</th>\n",
       "    </tr>\n",
       "  </thead>\n",
       "  <tbody>\n",
       "    <tr>\n",
       "      <th>0</th>\n",
       "      <td>2017-01</td>\n",
       "      <td>2017-01</td>\n",
       "      <td>764</td>\n",
       "    </tr>\n",
       "    <tr>\n",
       "      <th>1</th>\n",
       "      <td>2017-01</td>\n",
       "      <td>2017-02</td>\n",
       "      <td>3</td>\n",
       "    </tr>\n",
       "    <tr>\n",
       "      <th>2</th>\n",
       "      <td>2017-01</td>\n",
       "      <td>2017-03</td>\n",
       "      <td>2</td>\n",
       "    </tr>\n",
       "    <tr>\n",
       "      <th>3</th>\n",
       "      <td>2017-01</td>\n",
       "      <td>2017-04</td>\n",
       "      <td>1</td>\n",
       "    </tr>\n",
       "    <tr>\n",
       "      <th>4</th>\n",
       "      <td>2017-01</td>\n",
       "      <td>2017-05</td>\n",
       "      <td>3</td>\n",
       "    </tr>\n",
       "  </tbody>\n",
       "</table>\n",
       "</div>"
      ],
      "text/plain": [
       "    cogort return_month  quantity\n",
       "0  2017-01      2017-01       764\n",
       "1  2017-01      2017-02         3\n",
       "2  2017-01      2017-03         2\n",
       "3  2017-01      2017-04         1\n",
       "4  2017-01      2017-05         3"
      ]
     },
     "execution_count": 45,
     "metadata": {},
     "output_type": "execute_result"
    }
   ],
   "source": [
    "users_month_cogort = (cogorts.merge(for_cog, how='left', on='customer_unique_id')\n",
    "           .groupby(['cogort', 'return_month'], as_index=False)\n",
    "           .customer_unique_id.count()\n",
    "            .rename(columns={'customer_unique_id': 'quantity'}))\n",
    "users_month_cogort.head()"
   ]
  },
  {
   "cell_type": "markdown",
   "id": "d24166d5",
   "metadata": {},
   "source": [
    "Объединяем таблицы users_month_cogort и users_in_cogorts по cogort получаем таблицу в которой записаны данные с таблицы users_month_cogort, а также количество покупателей в каждой когорте(full_cogort) "
   ]
  },
  {
   "cell_type": "code",
   "execution_count": 46,
   "id": "fdc31619",
   "metadata": {
    "scrolled": true
   },
   "outputs": [
    {
     "data": {
      "text/html": [
       "<div>\n",
       "<style scoped>\n",
       "    .dataframe tbody tr th:only-of-type {\n",
       "        vertical-align: middle;\n",
       "    }\n",
       "\n",
       "    .dataframe tbody tr th {\n",
       "        vertical-align: top;\n",
       "    }\n",
       "\n",
       "    .dataframe thead th {\n",
       "        text-align: right;\n",
       "    }\n",
       "</style>\n",
       "<table border=\"1\" class=\"dataframe\">\n",
       "  <thead>\n",
       "    <tr style=\"text-align: right;\">\n",
       "      <th></th>\n",
       "      <th>cogort</th>\n",
       "      <th>return_month</th>\n",
       "      <th>quantity</th>\n",
       "      <th>full_cogort</th>\n",
       "    </tr>\n",
       "  </thead>\n",
       "  <tbody>\n",
       "    <tr>\n",
       "      <th>0</th>\n",
       "      <td>2017-01</td>\n",
       "      <td>2017-01</td>\n",
       "      <td>764</td>\n",
       "      <td>764</td>\n",
       "    </tr>\n",
       "    <tr>\n",
       "      <th>1</th>\n",
       "      <td>2017-01</td>\n",
       "      <td>2017-02</td>\n",
       "      <td>3</td>\n",
       "      <td>764</td>\n",
       "    </tr>\n",
       "    <tr>\n",
       "      <th>2</th>\n",
       "      <td>2017-01</td>\n",
       "      <td>2017-03</td>\n",
       "      <td>2</td>\n",
       "      <td>764</td>\n",
       "    </tr>\n",
       "    <tr>\n",
       "      <th>3</th>\n",
       "      <td>2017-01</td>\n",
       "      <td>2017-04</td>\n",
       "      <td>1</td>\n",
       "      <td>764</td>\n",
       "    </tr>\n",
       "    <tr>\n",
       "      <th>4</th>\n",
       "      <td>2017-01</td>\n",
       "      <td>2017-05</td>\n",
       "      <td>3</td>\n",
       "      <td>764</td>\n",
       "    </tr>\n",
       "  </tbody>\n",
       "</table>\n",
       "</div>"
      ],
      "text/plain": [
       "    cogort return_month  quantity  full_cogort\n",
       "0  2017-01      2017-01       764          764\n",
       "1  2017-01      2017-02         3          764\n",
       "2  2017-01      2017-03         2          764\n",
       "3  2017-01      2017-04         1          764\n",
       "4  2017-01      2017-05         3          764"
      ]
     },
     "execution_count": 46,
     "metadata": {},
     "output_type": "execute_result"
    }
   ],
   "source": [
    "users_month_cogort = users_month_cogort.merge(users_in_cogorts, on='cogort')\n",
    "users_month_cogort.head()"
   ]
  },
  {
   "cell_type": "markdown",
   "id": "222e1678",
   "metadata": {},
   "source": [
    "Создаем колонку retention. Делим количество пользователей из когорты, которые вернулись для создания заказа, в месяц на общее количество пользователей в когорте, получаем наш коэффициент удержания."
   ]
  },
  {
   "cell_type": "code",
   "execution_count": 47,
   "id": "d37a1701",
   "metadata": {},
   "outputs": [
    {
     "data": {
      "text/html": [
       "<div>\n",
       "<style scoped>\n",
       "    .dataframe tbody tr th:only-of-type {\n",
       "        vertical-align: middle;\n",
       "    }\n",
       "\n",
       "    .dataframe tbody tr th {\n",
       "        vertical-align: top;\n",
       "    }\n",
       "\n",
       "    .dataframe thead th {\n",
       "        text-align: right;\n",
       "    }\n",
       "</style>\n",
       "<table border=\"1\" class=\"dataframe\">\n",
       "  <thead>\n",
       "    <tr style=\"text-align: right;\">\n",
       "      <th></th>\n",
       "      <th>cogort</th>\n",
       "      <th>return_month</th>\n",
       "      <th>quantity</th>\n",
       "      <th>full_cogort</th>\n",
       "      <th>retention</th>\n",
       "    </tr>\n",
       "  </thead>\n",
       "  <tbody>\n",
       "    <tr>\n",
       "      <th>0</th>\n",
       "      <td>2017-01</td>\n",
       "      <td>2017-01</td>\n",
       "      <td>764</td>\n",
       "      <td>764</td>\n",
       "      <td>1.000000</td>\n",
       "    </tr>\n",
       "    <tr>\n",
       "      <th>1</th>\n",
       "      <td>2017-01</td>\n",
       "      <td>2017-02</td>\n",
       "      <td>3</td>\n",
       "      <td>764</td>\n",
       "      <td>0.003927</td>\n",
       "    </tr>\n",
       "    <tr>\n",
       "      <th>2</th>\n",
       "      <td>2017-01</td>\n",
       "      <td>2017-03</td>\n",
       "      <td>2</td>\n",
       "      <td>764</td>\n",
       "      <td>0.002618</td>\n",
       "    </tr>\n",
       "    <tr>\n",
       "      <th>3</th>\n",
       "      <td>2017-01</td>\n",
       "      <td>2017-04</td>\n",
       "      <td>1</td>\n",
       "      <td>764</td>\n",
       "      <td>0.001309</td>\n",
       "    </tr>\n",
       "    <tr>\n",
       "      <th>4</th>\n",
       "      <td>2017-01</td>\n",
       "      <td>2017-05</td>\n",
       "      <td>3</td>\n",
       "      <td>764</td>\n",
       "      <td>0.003927</td>\n",
       "    </tr>\n",
       "  </tbody>\n",
       "</table>\n",
       "</div>"
      ],
      "text/plain": [
       "    cogort return_month  quantity  full_cogort  retention\n",
       "0  2017-01      2017-01       764          764   1.000000\n",
       "1  2017-01      2017-02         3          764   0.003927\n",
       "2  2017-01      2017-03         2          764   0.002618\n",
       "3  2017-01      2017-04         1          764   0.001309\n",
       "4  2017-01      2017-05         3          764   0.003927"
      ]
     },
     "execution_count": 47,
     "metadata": {},
     "output_type": "execute_result"
    }
   ],
   "source": [
    "users_month_cogort['retention'] = users_month_cogort.quantity/users_month_cogort.full_cogort\n",
    "users_month_cogort.head()"
   ]
  },
  {
   "cell_type": "markdown",
   "id": "678fa7c6",
   "metadata": {},
   "source": [
    "Создаем колонку cogort_period - количество месяцев со дня создания первого заказа. Для этого от return_month отнимаем cogort и делим на один месяц."
   ]
  },
  {
   "cell_type": "code",
   "execution_count": 48,
   "id": "5f9e3e0b",
   "metadata": {
    "scrolled": true
   },
   "outputs": [
    {
     "data": {
      "text/html": [
       "<div>\n",
       "<style scoped>\n",
       "    .dataframe tbody tr th:only-of-type {\n",
       "        vertical-align: middle;\n",
       "    }\n",
       "\n",
       "    .dataframe tbody tr th {\n",
       "        vertical-align: top;\n",
       "    }\n",
       "\n",
       "    .dataframe thead th {\n",
       "        text-align: right;\n",
       "    }\n",
       "</style>\n",
       "<table border=\"1\" class=\"dataframe\">\n",
       "  <thead>\n",
       "    <tr style=\"text-align: right;\">\n",
       "      <th></th>\n",
       "      <th>cogort</th>\n",
       "      <th>return_month</th>\n",
       "      <th>quantity</th>\n",
       "      <th>full_cogort</th>\n",
       "      <th>retention</th>\n",
       "      <th>cogort_period</th>\n",
       "    </tr>\n",
       "  </thead>\n",
       "  <tbody>\n",
       "    <tr>\n",
       "      <th>0</th>\n",
       "      <td>2017-01</td>\n",
       "      <td>2017-01</td>\n",
       "      <td>764</td>\n",
       "      <td>764</td>\n",
       "      <td>1.000000</td>\n",
       "      <td>0.0</td>\n",
       "    </tr>\n",
       "    <tr>\n",
       "      <th>1</th>\n",
       "      <td>2017-01</td>\n",
       "      <td>2017-02</td>\n",
       "      <td>3</td>\n",
       "      <td>764</td>\n",
       "      <td>0.003927</td>\n",
       "      <td>1.0</td>\n",
       "    </tr>\n",
       "    <tr>\n",
       "      <th>2</th>\n",
       "      <td>2017-01</td>\n",
       "      <td>2017-03</td>\n",
       "      <td>2</td>\n",
       "      <td>764</td>\n",
       "      <td>0.002618</td>\n",
       "      <td>2.0</td>\n",
       "    </tr>\n",
       "    <tr>\n",
       "      <th>3</th>\n",
       "      <td>2017-01</td>\n",
       "      <td>2017-04</td>\n",
       "      <td>1</td>\n",
       "      <td>764</td>\n",
       "      <td>0.001309</td>\n",
       "      <td>3.0</td>\n",
       "    </tr>\n",
       "    <tr>\n",
       "      <th>4</th>\n",
       "      <td>2017-01</td>\n",
       "      <td>2017-05</td>\n",
       "      <td>3</td>\n",
       "      <td>764</td>\n",
       "      <td>0.003927</td>\n",
       "      <td>4.0</td>\n",
       "    </tr>\n",
       "  </tbody>\n",
       "</table>\n",
       "</div>"
      ],
      "text/plain": [
       "    cogort return_month  quantity  full_cogort  retention  cogort_period\n",
       "0  2017-01      2017-01       764          764   1.000000            0.0\n",
       "1  2017-01      2017-02         3          764   0.003927            1.0\n",
       "2  2017-01      2017-03         2          764   0.002618            2.0\n",
       "3  2017-01      2017-04         1          764   0.001309            3.0\n",
       "4  2017-01      2017-05         3          764   0.003927            4.0"
      ]
     },
     "execution_count": 48,
     "metadata": {},
     "output_type": "execute_result"
    }
   ],
   "source": [
    "users_month_cogort['cogort_period'] = (round((pd.to_datetime(users_month_cogort.return_month + '-01') - pd.to_datetime(users_month_cogort.cogort + '-01'))/ np.timedelta64(1, 'M'), 0))\n",
    "users_month_cogort.head()"
   ]
  },
  {
   "cell_type": "markdown",
   "id": "ff9d45ef",
   "metadata": {},
   "source": [
    "Отбираем данные для даты возвращения до апреля 2018 года, поскольку нас интересует retention на третий месяц. А также преобразовываем cogort_period в тип инт"
   ]
  },
  {
   "cell_type": "code",
   "execution_count": 49,
   "id": "ca2ee50c",
   "metadata": {
    "scrolled": true
   },
   "outputs": [
    {
     "data": {
      "text/html": [
       "<div>\n",
       "<style scoped>\n",
       "    .dataframe tbody tr th:only-of-type {\n",
       "        vertical-align: middle;\n",
       "    }\n",
       "\n",
       "    .dataframe tbody tr th {\n",
       "        vertical-align: top;\n",
       "    }\n",
       "\n",
       "    .dataframe thead th {\n",
       "        text-align: right;\n",
       "    }\n",
       "</style>\n",
       "<table border=\"1\" class=\"dataframe\">\n",
       "  <thead>\n",
       "    <tr style=\"text-align: right;\">\n",
       "      <th></th>\n",
       "      <th>cogort</th>\n",
       "      <th>return_month</th>\n",
       "      <th>quantity</th>\n",
       "      <th>full_cogort</th>\n",
       "      <th>retention</th>\n",
       "      <th>cogort_period</th>\n",
       "    </tr>\n",
       "  </thead>\n",
       "  <tbody>\n",
       "    <tr>\n",
       "      <th>0</th>\n",
       "      <td>2017-01</td>\n",
       "      <td>2017-01</td>\n",
       "      <td>764</td>\n",
       "      <td>764</td>\n",
       "      <td>1.000000</td>\n",
       "      <td>0</td>\n",
       "    </tr>\n",
       "    <tr>\n",
       "      <th>1</th>\n",
       "      <td>2017-01</td>\n",
       "      <td>2017-02</td>\n",
       "      <td>3</td>\n",
       "      <td>764</td>\n",
       "      <td>0.003927</td>\n",
       "      <td>1</td>\n",
       "    </tr>\n",
       "    <tr>\n",
       "      <th>2</th>\n",
       "      <td>2017-01</td>\n",
       "      <td>2017-03</td>\n",
       "      <td>2</td>\n",
       "      <td>764</td>\n",
       "      <td>0.002618</td>\n",
       "      <td>2</td>\n",
       "    </tr>\n",
       "    <tr>\n",
       "      <th>3</th>\n",
       "      <td>2017-01</td>\n",
       "      <td>2017-04</td>\n",
       "      <td>1</td>\n",
       "      <td>764</td>\n",
       "      <td>0.001309</td>\n",
       "      <td>3</td>\n",
       "    </tr>\n",
       "    <tr>\n",
       "      <th>4</th>\n",
       "      <td>2017-01</td>\n",
       "      <td>2017-05</td>\n",
       "      <td>3</td>\n",
       "      <td>764</td>\n",
       "      <td>0.003927</td>\n",
       "      <td>4</td>\n",
       "    </tr>\n",
       "  </tbody>\n",
       "</table>\n",
       "</div>"
      ],
      "text/plain": [
       "    cogort return_month  quantity  full_cogort  retention  cogort_period\n",
       "0  2017-01      2017-01       764          764   1.000000              0\n",
       "1  2017-01      2017-02         3          764   0.003927              1\n",
       "2  2017-01      2017-03         2          764   0.002618              2\n",
       "3  2017-01      2017-04         1          764   0.001309              3\n",
       "4  2017-01      2017-05         3          764   0.003927              4"
      ]
     },
     "execution_count": 49,
     "metadata": {},
     "output_type": "execute_result"
    }
   ],
   "source": [
    "users_month_cogort = users_month_cogort[users_month_cogort.return_month < '2018-04'].astype({'cogort_period': 'int'})\n",
    "users_month_cogort.head()"
   ]
  },
  {
   "cell_type": "markdown",
   "id": "befc4807",
   "metadata": {},
   "source": [
    "Для удобства создаем сводную таблицу user_retention в которой индексы - когорта пользователей, колонки - количество месяцев со дня первой покупки, а значения - наш коэффициент удержания пользователей."
   ]
  },
  {
   "cell_type": "code",
   "execution_count": 50,
   "id": "c01726b0",
   "metadata": {},
   "outputs": [],
   "source": [
    "user_retention = users_month_cogort.pivot(index = 'cogort', columns = 'cogort_period', values='retention')"
   ]
  },
  {
   "cell_type": "code",
   "execution_count": 51,
   "id": "764a827b",
   "metadata": {
    "scrolled": false
   },
   "outputs": [
    {
     "data": {
      "text/html": [
       "<style  type=\"text/css\" >\n",
       "#T_91fe7_row0_col0,#T_91fe7_row0_col14,#T_91fe7_row1_col0,#T_91fe7_row1_col1,#T_91fe7_row1_col5,#T_91fe7_row1_col10,#T_91fe7_row1_col12,#T_91fe7_row1_col13,#T_91fe7_row2_col0,#T_91fe7_row2_col6,#T_91fe7_row2_col9,#T_91fe7_row3_col0,#T_91fe7_row3_col2,#T_91fe7_row3_col11,#T_91fe7_row4_col0,#T_91fe7_row5_col0,#T_91fe7_row5_col8,#T_91fe7_row6_col0,#T_91fe7_row6_col7,#T_91fe7_row7_col0,#T_91fe7_row8_col0,#T_91fe7_row9_col0,#T_91fe7_row9_col3,#T_91fe7_row10_col0,#T_91fe7_row10_col4,#T_91fe7_row11_col0{\n",
       "            background-color:  #440154;\n",
       "            color:  #f1f1f1;\n",
       "        }#T_91fe7_row0_col1{\n",
       "            background-color:  #2e6d8e;\n",
       "            color:  #f1f1f1;\n",
       "        }#T_91fe7_row0_col2{\n",
       "            background-color:  #453581;\n",
       "            color:  #f1f1f1;\n",
       "        }#T_91fe7_row0_col3{\n",
       "            background-color:  #472d7b;\n",
       "            color:  #f1f1f1;\n",
       "        }#T_91fe7_row0_col4{\n",
       "            background-color:  #5cc863;\n",
       "            color:  #000000;\n",
       "        }#T_91fe7_row0_col5{\n",
       "            background-color:  #471063;\n",
       "            color:  #f1f1f1;\n",
       "        }#T_91fe7_row0_col6,#T_91fe7_row0_col10,#T_91fe7_row0_col12,#T_91fe7_row0_col13,#T_91fe7_row1_col11,#T_91fe7_row2_col7,#T_91fe7_row2_col8,#T_91fe7_row4_col9,#T_91fe7_row5_col3,#T_91fe7_row7_col1,#T_91fe7_row7_col5,#T_91fe7_row8_col2,#T_91fe7_row8_col4,#T_91fe7_row9_col1{\n",
       "            background-color:  #fde725;\n",
       "            color:  #000000;\n",
       "        }#T_91fe7_row0_col7{\n",
       "            background-color:  #46307e;\n",
       "            color:  #f1f1f1;\n",
       "        }#T_91fe7_row0_col8{\n",
       "            background-color:  #46075a;\n",
       "            color:  #f1f1f1;\n",
       "        }#T_91fe7_row0_col9,#T_91fe7_row2_col13,#T_91fe7_row3_col12,#T_91fe7_row3_col13,#T_91fe7_row4_col11,#T_91fe7_row4_col12,#T_91fe7_row4_col13,#T_91fe7_row5_col10,#T_91fe7_row5_col11,#T_91fe7_row5_col12,#T_91fe7_row5_col13,#T_91fe7_row6_col9,#T_91fe7_row6_col10,#T_91fe7_row6_col11,#T_91fe7_row6_col12,#T_91fe7_row6_col13,#T_91fe7_row7_col8,#T_91fe7_row7_col9,#T_91fe7_row7_col10,#T_91fe7_row7_col11,#T_91fe7_row7_col12,#T_91fe7_row7_col13,#T_91fe7_row8_col7,#T_91fe7_row8_col8,#T_91fe7_row8_col9,#T_91fe7_row8_col10,#T_91fe7_row8_col11,#T_91fe7_row8_col12,#T_91fe7_row8_col13,#T_91fe7_row9_col6,#T_91fe7_row9_col7,#T_91fe7_row9_col8,#T_91fe7_row9_col9,#T_91fe7_row9_col10,#T_91fe7_row9_col11,#T_91fe7_row9_col12,#T_91fe7_row9_col13,#T_91fe7_row10_col5,#T_91fe7_row10_col6,#T_91fe7_row10_col7,#T_91fe7_row10_col8,#T_91fe7_row10_col9,#T_91fe7_row10_col10,#T_91fe7_row10_col11,#T_91fe7_row10_col12,#T_91fe7_row10_col13,#T_91fe7_row11_col4,#T_91fe7_row11_col5,#T_91fe7_row11_col6,#T_91fe7_row11_col7,#T_91fe7_row11_col8,#T_91fe7_row11_col9,#T_91fe7_row11_col10,#T_91fe7_row11_col11,#T_91fe7_row11_col12,#T_91fe7_row11_col13{\n",
       "            background-color:  #000000;\n",
       "            color:  #f1f1f1;\n",
       "            background-color:  white;\n",
       "        }#T_91fe7_row0_col11,#T_91fe7_row1_col2{\n",
       "            background-color:  #3e4c8a;\n",
       "            color:  #f1f1f1;\n",
       "        }#T_91fe7_row1_col3{\n",
       "            background-color:  #481c6e;\n",
       "            color:  #f1f1f1;\n",
       "        }#T_91fe7_row1_col4{\n",
       "            background-color:  #6ccd5a;\n",
       "            color:  #000000;\n",
       "        }#T_91fe7_row1_col6,#T_91fe7_row1_col8{\n",
       "            background-color:  #404588;\n",
       "            color:  #f1f1f1;\n",
       "        }#T_91fe7_row1_col7,#T_91fe7_row3_col5{\n",
       "            background-color:  #306a8e;\n",
       "            color:  #f1f1f1;\n",
       "        }#T_91fe7_row1_col9{\n",
       "            background-color:  #34b679;\n",
       "            color:  #000000;\n",
       "        }#T_91fe7_row1_col14,#T_91fe7_row2_col14,#T_91fe7_row3_col14,#T_91fe7_row4_col14,#T_91fe7_row5_col14,#T_91fe7_row6_col14,#T_91fe7_row7_col14,#T_91fe7_row8_col14,#T_91fe7_row9_col14,#T_91fe7_row10_col14,#T_91fe7_row11_col14{\n",
       "            background-color:  #440154;\n",
       "            color:  #f1f1f1;\n",
       "            background-color:  white;\n",
       "        }#T_91fe7_row2_col1{\n",
       "            background-color:  #1fa188;\n",
       "            color:  #000000;\n",
       "        }#T_91fe7_row2_col2{\n",
       "            background-color:  #1f958b;\n",
       "            color:  #000000;\n",
       "        }#T_91fe7_row2_col3{\n",
       "            background-color:  #b8de29;\n",
       "            color:  #000000;\n",
       "        }#T_91fe7_row2_col4{\n",
       "            background-color:  #1f9e89;\n",
       "            color:  #000000;\n",
       "        }#T_91fe7_row2_col5,#T_91fe7_row2_col12{\n",
       "            background-color:  #482173;\n",
       "            color:  #f1f1f1;\n",
       "        }#T_91fe7_row2_col10{\n",
       "            background-color:  #dfe318;\n",
       "            color:  #000000;\n",
       "        }#T_91fe7_row2_col11{\n",
       "            background-color:  #31688e;\n",
       "            color:  #f1f1f1;\n",
       "        }#T_91fe7_row3_col1{\n",
       "            background-color:  #73d056;\n",
       "            color:  #000000;\n",
       "        }#T_91fe7_row3_col3{\n",
       "            background-color:  #3b518b;\n",
       "            color:  #f1f1f1;\n",
       "        }#T_91fe7_row3_col4{\n",
       "            background-color:  #1e9d89;\n",
       "            color:  #000000;\n",
       "        }#T_91fe7_row3_col6,#T_91fe7_row3_col10{\n",
       "            background-color:  #20928c;\n",
       "            color:  #000000;\n",
       "        }#T_91fe7_row3_col7{\n",
       "            background-color:  #ece51b;\n",
       "            color:  #000000;\n",
       "        }#T_91fe7_row3_col8{\n",
       "            background-color:  #77d153;\n",
       "            color:  #000000;\n",
       "        }#T_91fe7_row3_col9{\n",
       "            background-color:  #297a8e;\n",
       "            color:  #000000;\n",
       "        }#T_91fe7_row4_col1{\n",
       "            background-color:  #20a486;\n",
       "            color:  #000000;\n",
       "        }#T_91fe7_row4_col2{\n",
       "            background-color:  #bddf26;\n",
       "            color:  #000000;\n",
       "        }#T_91fe7_row4_col3{\n",
       "            background-color:  #cde11d;\n",
       "            color:  #000000;\n",
       "        }#T_91fe7_row4_col4{\n",
       "            background-color:  #277e8e;\n",
       "            color:  #000000;\n",
       "        }#T_91fe7_row4_col5,#T_91fe7_row7_col3,#T_91fe7_row10_col2{\n",
       "            background-color:  #1f988b;\n",
       "            color:  #000000;\n",
       "        }#T_91fe7_row4_col6{\n",
       "            background-color:  #4ac16d;\n",
       "            color:  #000000;\n",
       "        }#T_91fe7_row4_col7{\n",
       "            background-color:  #32648e;\n",
       "            color:  #f1f1f1;\n",
       "        }#T_91fe7_row4_col8{\n",
       "            background-color:  #1fa187;\n",
       "            color:  #000000;\n",
       "        }#T_91fe7_row4_col10{\n",
       "            background-color:  #218e8d;\n",
       "            color:  #000000;\n",
       "        }#T_91fe7_row5_col1{\n",
       "            background-color:  #1f998a;\n",
       "            color:  #000000;\n",
       "        }#T_91fe7_row5_col2{\n",
       "            background-color:  #27808e;\n",
       "            color:  #000000;\n",
       "        }#T_91fe7_row5_col4{\n",
       "            background-color:  #3d4e8a;\n",
       "            color:  #f1f1f1;\n",
       "        }#T_91fe7_row5_col5{\n",
       "            background-color:  #2fb47c;\n",
       "            color:  #000000;\n",
       "        }#T_91fe7_row5_col6,#T_91fe7_row8_col3{\n",
       "            background-color:  #26ad81;\n",
       "            color:  #000000;\n",
       "        }#T_91fe7_row5_col7{\n",
       "            background-color:  #22a884;\n",
       "            color:  #000000;\n",
       "        }#T_91fe7_row5_col9{\n",
       "            background-color:  #2cb17e;\n",
       "            color:  #000000;\n",
       "        }#T_91fe7_row6_col1{\n",
       "            background-color:  #25ac82;\n",
       "            color:  #000000;\n",
       "        }#T_91fe7_row6_col2{\n",
       "            background-color:  #24868e;\n",
       "            color:  #000000;\n",
       "        }#T_91fe7_row6_col3{\n",
       "            background-color:  #20938c;\n",
       "            color:  #000000;\n",
       "        }#T_91fe7_row6_col4{\n",
       "            background-color:  #30698e;\n",
       "            color:  #f1f1f1;\n",
       "        }#T_91fe7_row6_col5{\n",
       "            background-color:  #3e4989;\n",
       "            color:  #f1f1f1;\n",
       "        }#T_91fe7_row6_col6{\n",
       "            background-color:  #287d8e;\n",
       "            color:  #000000;\n",
       "        }#T_91fe7_row6_col8{\n",
       "            background-color:  #3c508b;\n",
       "            color:  #f1f1f1;\n",
       "        }#T_91fe7_row7_col2{\n",
       "            background-color:  #2c738e;\n",
       "            color:  #f1f1f1;\n",
       "        }#T_91fe7_row7_col4{\n",
       "            background-color:  #27ad81;\n",
       "            color:  #000000;\n",
       "        }#T_91fe7_row7_col6{\n",
       "            background-color:  #2e6f8e;\n",
       "            color:  #f1f1f1;\n",
       "        }#T_91fe7_row7_col7{\n",
       "            background-color:  #7ad151;\n",
       "            color:  #000000;\n",
       "        }#T_91fe7_row8_col1{\n",
       "            background-color:  #eae51a;\n",
       "            color:  #000000;\n",
       "        }#T_91fe7_row8_col5{\n",
       "            background-color:  #3b528b;\n",
       "            color:  #f1f1f1;\n",
       "        }#T_91fe7_row8_col6{\n",
       "            background-color:  #433d84;\n",
       "            color:  #f1f1f1;\n",
       "        }#T_91fe7_row9_col2{\n",
       "            background-color:  #482576;\n",
       "            color:  #f1f1f1;\n",
       "        }#T_91fe7_row9_col4{\n",
       "            background-color:  #472a7a;\n",
       "            color:  #f1f1f1;\n",
       "        }#T_91fe7_row9_col5{\n",
       "            background-color:  #3f4788;\n",
       "            color:  #f1f1f1;\n",
       "        }#T_91fe7_row10_col1{\n",
       "            background-color:  #3dbc74;\n",
       "            color:  #000000;\n",
       "        }#T_91fe7_row10_col3{\n",
       "            background-color:  #38588c;\n",
       "            color:  #f1f1f1;\n",
       "        }#T_91fe7_row11_col1{\n",
       "            background-color:  #481668;\n",
       "            color:  #f1f1f1;\n",
       "        }#T_91fe7_row11_col2{\n",
       "            background-color:  #424086;\n",
       "            color:  #f1f1f1;\n",
       "        }#T_91fe7_row11_col3{\n",
       "            background-color:  #75d054;\n",
       "            color:  #000000;\n",
       "        }</style><table id=\"T_91fe7_\" ><caption>User retention by cohort</caption><thead>    <tr>        <th class=\"index_name level0\" >cogort_period</th>        <th class=\"col_heading level0 col0\" >0</th>        <th class=\"col_heading level0 col1\" >1</th>        <th class=\"col_heading level0 col2\" >2</th>        <th class=\"col_heading level0 col3\" >3</th>        <th class=\"col_heading level0 col4\" >4</th>        <th class=\"col_heading level0 col5\" >5</th>        <th class=\"col_heading level0 col6\" >6</th>        <th class=\"col_heading level0 col7\" >7</th>        <th class=\"col_heading level0 col8\" >8</th>        <th class=\"col_heading level0 col9\" >9</th>        <th class=\"col_heading level0 col10\" >10</th>        <th class=\"col_heading level0 col11\" >11</th>        <th class=\"col_heading level0 col12\" >12</th>        <th class=\"col_heading level0 col13\" >13</th>        <th class=\"col_heading level0 col14\" >14</th>    </tr>    <tr>        <th class=\"index_name level0\" >cogort</th>        <th class=\"blank\" ></th>        <th class=\"blank\" ></th>        <th class=\"blank\" ></th>        <th class=\"blank\" ></th>        <th class=\"blank\" ></th>        <th class=\"blank\" ></th>        <th class=\"blank\" ></th>        <th class=\"blank\" ></th>        <th class=\"blank\" ></th>        <th class=\"blank\" ></th>        <th class=\"blank\" ></th>        <th class=\"blank\" ></th>        <th class=\"blank\" ></th>        <th class=\"blank\" ></th>        <th class=\"blank\" ></th>    </tr></thead><tbody>\n",
       "                <tr>\n",
       "                        <th id=\"T_91fe7_level0_row0\" class=\"row_heading level0 row0\" >2017-01</th>\n",
       "                        <td id=\"T_91fe7_row0_col0\" class=\"data row0 col0\" >100.00%</td>\n",
       "                        <td id=\"T_91fe7_row0_col1\" class=\"data row0 col1\" >0.39%</td>\n",
       "                        <td id=\"T_91fe7_row0_col2\" class=\"data row0 col2\" >0.26%</td>\n",
       "                        <td id=\"T_91fe7_row0_col3\" class=\"data row0 col3\" >0.13%</td>\n",
       "                        <td id=\"T_91fe7_row0_col4\" class=\"data row0 col4\" >0.39%</td>\n",
       "                        <td id=\"T_91fe7_row0_col5\" class=\"data row0 col5\" >0.13%</td>\n",
       "                        <td id=\"T_91fe7_row0_col6\" class=\"data row0 col6\" >0.52%</td>\n",
       "                        <td id=\"T_91fe7_row0_col7\" class=\"data row0 col7\" >0.13%</td>\n",
       "                        <td id=\"T_91fe7_row0_col8\" class=\"data row0 col8\" >0.13%</td>\n",
       "                        <td id=\"T_91fe7_row0_col9\" class=\"data row0 col9\" ></td>\n",
       "                        <td id=\"T_91fe7_row0_col10\" class=\"data row0 col10\" >0.39%</td>\n",
       "                        <td id=\"T_91fe7_row0_col11\" class=\"data row0 col11\" >0.13%</td>\n",
       "                        <td id=\"T_91fe7_row0_col12\" class=\"data row0 col12\" >0.79%</td>\n",
       "                        <td id=\"T_91fe7_row0_col13\" class=\"data row0 col13\" >0.39%</td>\n",
       "                        <td id=\"T_91fe7_row0_col14\" class=\"data row0 col14\" >0.13%</td>\n",
       "            </tr>\n",
       "            <tr>\n",
       "                        <th id=\"T_91fe7_level0_row1\" class=\"row_heading level0 row1\" >2017-02</th>\n",
       "                        <td id=\"T_91fe7_row1_col0\" class=\"data row1 col0\" >100.00%</td>\n",
       "                        <td id=\"T_91fe7_row1_col1\" class=\"data row1 col1\" >0.23%</td>\n",
       "                        <td id=\"T_91fe7_row1_col2\" class=\"data row1 col2\" >0.29%</td>\n",
       "                        <td id=\"T_91fe7_row1_col3\" class=\"data row1 col3\" >0.11%</td>\n",
       "                        <td id=\"T_91fe7_row1_col4\" class=\"data row1 col4\" >0.40%</td>\n",
       "                        <td id=\"T_91fe7_row1_col5\" class=\"data row1 col5\" >0.11%</td>\n",
       "                        <td id=\"T_91fe7_row1_col6\" class=\"data row1 col6\" >0.23%</td>\n",
       "                        <td id=\"T_91fe7_row1_col7\" class=\"data row1 col7\" >0.17%</td>\n",
       "                        <td id=\"T_91fe7_row1_col8\" class=\"data row1 col8\" >0.17%</td>\n",
       "                        <td id=\"T_91fe7_row1_col9\" class=\"data row1 col9\" >0.23%</td>\n",
       "                        <td id=\"T_91fe7_row1_col10\" class=\"data row1 col10\" >0.11%</td>\n",
       "                        <td id=\"T_91fe7_row1_col11\" class=\"data row1 col11\" >0.29%</td>\n",
       "                        <td id=\"T_91fe7_row1_col12\" class=\"data row1 col12\" >0.17%</td>\n",
       "                        <td id=\"T_91fe7_row1_col13\" class=\"data row1 col13\" >0.17%</td>\n",
       "                        <td id=\"T_91fe7_row1_col14\" class=\"data row1 col14\" ></td>\n",
       "            </tr>\n",
       "            <tr>\n",
       "                        <th id=\"T_91fe7_level0_row2\" class=\"row_heading level0 row2\" >2017-03</th>\n",
       "                        <td id=\"T_91fe7_row2_col0\" class=\"data row2 col0\" >100.00%</td>\n",
       "                        <td id=\"T_91fe7_row2_col1\" class=\"data row2 col1\" >0.49%</td>\n",
       "                        <td id=\"T_91fe7_row2_col2\" class=\"data row2 col2\" >0.38%</td>\n",
       "                        <td id=\"T_91fe7_row2_col3\" class=\"data row2 col3\" >0.38%</td>\n",
       "                        <td id=\"T_91fe7_row2_col4\" class=\"data row2 col4\" >0.34%</td>\n",
       "                        <td id=\"T_91fe7_row2_col5\" class=\"data row2 col5\" >0.15%</td>\n",
       "                        <td id=\"T_91fe7_row2_col6\" class=\"data row2 col6\" >0.15%</td>\n",
       "                        <td id=\"T_91fe7_row2_col7\" class=\"data row2 col7\" >0.30%</td>\n",
       "                        <td id=\"T_91fe7_row2_col8\" class=\"data row2 col8\" >0.34%</td>\n",
       "                        <td id=\"T_91fe7_row2_col9\" class=\"data row2 col9\" >0.08%</td>\n",
       "                        <td id=\"T_91fe7_row2_col10\" class=\"data row2 col10\" >0.38%</td>\n",
       "                        <td id=\"T_91fe7_row2_col11\" class=\"data row2 col11\" >0.15%</td>\n",
       "                        <td id=\"T_91fe7_row2_col12\" class=\"data row2 col12\" >0.23%</td>\n",
       "                        <td id=\"T_91fe7_row2_col13\" class=\"data row2 col13\" ></td>\n",
       "                        <td id=\"T_91fe7_row2_col14\" class=\"data row2 col14\" ></td>\n",
       "            </tr>\n",
       "            <tr>\n",
       "                        <th id=\"T_91fe7_level0_row3\" class=\"row_heading level0 row3\" >2017-04</th>\n",
       "                        <td id=\"T_91fe7_row3_col0\" class=\"data row3 col0\" >100.00%</td>\n",
       "                        <td id=\"T_91fe7_row3_col1\" class=\"data row3 col1\" >0.60%</td>\n",
       "                        <td id=\"T_91fe7_row3_col2\" class=\"data row3 col2\" >0.21%</td>\n",
       "                        <td id=\"T_91fe7_row3_col3\" class=\"data row3 col3\" >0.17%</td>\n",
       "                        <td id=\"T_91fe7_row3_col4\" class=\"data row3 col4\" >0.34%</td>\n",
       "                        <td id=\"T_91fe7_row3_col5\" class=\"data row3 col5\" >0.26%</td>\n",
       "                        <td id=\"T_91fe7_row3_col6\" class=\"data row3 col6\" >0.34%</td>\n",
       "                        <td id=\"T_91fe7_row3_col7\" class=\"data row3 col7\" >0.30%</td>\n",
       "                        <td id=\"T_91fe7_row3_col8\" class=\"data row3 col8\" >0.30%</td>\n",
       "                        <td id=\"T_91fe7_row3_col9\" class=\"data row3 col9\" >0.17%</td>\n",
       "                        <td id=\"T_91fe7_row3_col10\" class=\"data row3 col10\" >0.26%</td>\n",
       "                        <td id=\"T_91fe7_row3_col11\" class=\"data row3 col11\" >0.09%</td>\n",
       "                        <td id=\"T_91fe7_row3_col12\" class=\"data row3 col12\" ></td>\n",
       "                        <td id=\"T_91fe7_row3_col13\" class=\"data row3 col13\" ></td>\n",
       "                        <td id=\"T_91fe7_row3_col14\" class=\"data row3 col14\" ></td>\n",
       "            </tr>\n",
       "            <tr>\n",
       "                        <th id=\"T_91fe7_level0_row4\" class=\"row_heading level0 row4\" >2017-05</th>\n",
       "                        <td id=\"T_91fe7_row4_col0\" class=\"data row4 col0\" >100.00%</td>\n",
       "                        <td id=\"T_91fe7_row4_col1\" class=\"data row4 col1\" >0.50%</td>\n",
       "                        <td id=\"T_91fe7_row4_col2\" class=\"data row4 col2\" >0.50%</td>\n",
       "                        <td id=\"T_91fe7_row4_col3\" class=\"data row4 col3\" >0.39%</td>\n",
       "                        <td id=\"T_91fe7_row4_col4\" class=\"data row4 col4\" >0.31%</td>\n",
       "                        <td id=\"T_91fe7_row4_col5\" class=\"data row4 col5\" >0.33%</td>\n",
       "                        <td id=\"T_91fe7_row4_col6\" class=\"data row4 col6\" >0.42%</td>\n",
       "                        <td id=\"T_91fe7_row4_col7\" class=\"data row4 col7\" >0.17%</td>\n",
       "                        <td id=\"T_91fe7_row4_col8\" class=\"data row4 col8\" >0.25%</td>\n",
       "                        <td id=\"T_91fe7_row4_col9\" class=\"data row4 col9\" >0.31%</td>\n",
       "                        <td id=\"T_91fe7_row4_col10\" class=\"data row4 col10\" >0.25%</td>\n",
       "                        <td id=\"T_91fe7_row4_col11\" class=\"data row4 col11\" ></td>\n",
       "                        <td id=\"T_91fe7_row4_col12\" class=\"data row4 col12\" ></td>\n",
       "                        <td id=\"T_91fe7_row4_col13\" class=\"data row4 col13\" ></td>\n",
       "                        <td id=\"T_91fe7_row4_col14\" class=\"data row4 col14\" ></td>\n",
       "            </tr>\n",
       "            <tr>\n",
       "                        <th id=\"T_91fe7_level0_row5\" class=\"row_heading level0 row5\" >2017-06</th>\n",
       "                        <td id=\"T_91fe7_row5_col0\" class=\"data row5 col0\" >100.00%</td>\n",
       "                        <td id=\"T_91fe7_row5_col1\" class=\"data row5 col1\" >0.48%</td>\n",
       "                        <td id=\"T_91fe7_row5_col2\" class=\"data row5 col2\" >0.35%</td>\n",
       "                        <td id=\"T_91fe7_row5_col3\" class=\"data row5 col3\" >0.41%</td>\n",
       "                        <td id=\"T_91fe7_row5_col4\" class=\"data row5 col4\" >0.25%</td>\n",
       "                        <td id=\"T_91fe7_row5_col5\" class=\"data row5 col5\" >0.38%</td>\n",
       "                        <td id=\"T_91fe7_row5_col6\" class=\"data row5 col6\" >0.38%</td>\n",
       "                        <td id=\"T_91fe7_row5_col7\" class=\"data row5 col7\" >0.22%</td>\n",
       "                        <td id=\"T_91fe7_row5_col8\" class=\"data row5 col8\" >0.13%</td>\n",
       "                        <td id=\"T_91fe7_row5_col9\" class=\"data row5 col9\" >0.22%</td>\n",
       "                        <td id=\"T_91fe7_row5_col10\" class=\"data row5 col10\" ></td>\n",
       "                        <td id=\"T_91fe7_row5_col11\" class=\"data row5 col11\" ></td>\n",
       "                        <td id=\"T_91fe7_row5_col12\" class=\"data row5 col12\" ></td>\n",
       "                        <td id=\"T_91fe7_row5_col13\" class=\"data row5 col13\" ></td>\n",
       "                        <td id=\"T_91fe7_row5_col14\" class=\"data row5 col14\" ></td>\n",
       "            </tr>\n",
       "            <tr>\n",
       "                        <th id=\"T_91fe7_level0_row6\" class=\"row_heading level0 row6\" >2017-07</th>\n",
       "                        <td id=\"T_91fe7_row6_col0\" class=\"data row6 col0\" >100.00%</td>\n",
       "                        <td id=\"T_91fe7_row6_col1\" class=\"data row6 col1\" >0.51%</td>\n",
       "                        <td id=\"T_91fe7_row6_col2\" class=\"data row6 col2\" >0.36%</td>\n",
       "                        <td id=\"T_91fe7_row6_col3\" class=\"data row6 col3\" >0.26%</td>\n",
       "                        <td id=\"T_91fe7_row6_col4\" class=\"data row6 col4\" >0.28%</td>\n",
       "                        <td id=\"T_91fe7_row6_col5\" class=\"data row6 col5\" >0.21%</td>\n",
       "                        <td id=\"T_91fe7_row6_col6\" class=\"data row6 col6\" >0.31%</td>\n",
       "                        <td id=\"T_91fe7_row6_col7\" class=\"data row6 col7\" >0.10%</td>\n",
       "                        <td id=\"T_91fe7_row6_col8\" class=\"data row6 col8\" >0.18%</td>\n",
       "                        <td id=\"T_91fe7_row6_col9\" class=\"data row6 col9\" ></td>\n",
       "                        <td id=\"T_91fe7_row6_col10\" class=\"data row6 col10\" ></td>\n",
       "                        <td id=\"T_91fe7_row6_col11\" class=\"data row6 col11\" ></td>\n",
       "                        <td id=\"T_91fe7_row6_col12\" class=\"data row6 col12\" ></td>\n",
       "                        <td id=\"T_91fe7_row6_col13\" class=\"data row6 col13\" ></td>\n",
       "                        <td id=\"T_91fe7_row6_col14\" class=\"data row6 col14\" ></td>\n",
       "            </tr>\n",
       "            <tr>\n",
       "                        <th id=\"T_91fe7_level0_row7\" class=\"row_heading level0 row7\" >2017-08</th>\n",
       "                        <td id=\"T_91fe7_row7_col0\" class=\"data row7 col0\" >100.00%</td>\n",
       "                        <td id=\"T_91fe7_row7_col1\" class=\"data row7 col1\" >0.69%</td>\n",
       "                        <td id=\"T_91fe7_row7_col2\" class=\"data row7 col2\" >0.33%</td>\n",
       "                        <td id=\"T_91fe7_row7_col3\" class=\"data row7 col3\" >0.26%</td>\n",
       "                        <td id=\"T_91fe7_row7_col4\" class=\"data row7 col4\" >0.36%</td>\n",
       "                        <td id=\"T_91fe7_row7_col5\" class=\"data row7 col5\" >0.53%</td>\n",
       "                        <td id=\"T_91fe7_row7_col6\" class=\"data row7 col6\" >0.29%</td>\n",
       "                        <td id=\"T_91fe7_row7_col7\" class=\"data row7 col7\" >0.26%</td>\n",
       "                        <td id=\"T_91fe7_row7_col8\" class=\"data row7 col8\" ></td>\n",
       "                        <td id=\"T_91fe7_row7_col9\" class=\"data row7 col9\" ></td>\n",
       "                        <td id=\"T_91fe7_row7_col10\" class=\"data row7 col10\" ></td>\n",
       "                        <td id=\"T_91fe7_row7_col11\" class=\"data row7 col11\" ></td>\n",
       "                        <td id=\"T_91fe7_row7_col12\" class=\"data row7 col12\" ></td>\n",
       "                        <td id=\"T_91fe7_row7_col13\" class=\"data row7 col13\" ></td>\n",
       "                        <td id=\"T_91fe7_row7_col14\" class=\"data row7 col14\" ></td>\n",
       "            </tr>\n",
       "            <tr>\n",
       "                        <th id=\"T_91fe7_level0_row8\" class=\"row_heading level0 row8\" >2017-09</th>\n",
       "                        <td id=\"T_91fe7_row8_col0\" class=\"data row8 col0\" >100.00%</td>\n",
       "                        <td id=\"T_91fe7_row8_col1\" class=\"data row8 col1\" >0.68%</td>\n",
       "                        <td id=\"T_91fe7_row8_col2\" class=\"data row8 col2\" >0.53%</td>\n",
       "                        <td id=\"T_91fe7_row8_col3\" class=\"data row8 col3\" >0.29%</td>\n",
       "                        <td id=\"T_91fe7_row8_col4\" class=\"data row8 col4\" >0.46%</td>\n",
       "                        <td id=\"T_91fe7_row8_col5\" class=\"data row8 col5\" >0.22%</td>\n",
       "                        <td id=\"T_91fe7_row8_col6\" class=\"data row8 col6\" >0.22%</td>\n",
       "                        <td id=\"T_91fe7_row8_col7\" class=\"data row8 col7\" ></td>\n",
       "                        <td id=\"T_91fe7_row8_col8\" class=\"data row8 col8\" ></td>\n",
       "                        <td id=\"T_91fe7_row8_col9\" class=\"data row8 col9\" ></td>\n",
       "                        <td id=\"T_91fe7_row8_col10\" class=\"data row8 col10\" ></td>\n",
       "                        <td id=\"T_91fe7_row8_col11\" class=\"data row8 col11\" ></td>\n",
       "                        <td id=\"T_91fe7_row8_col12\" class=\"data row8 col12\" ></td>\n",
       "                        <td id=\"T_91fe7_row8_col13\" class=\"data row8 col13\" ></td>\n",
       "                        <td id=\"T_91fe7_row8_col14\" class=\"data row8 col14\" ></td>\n",
       "            </tr>\n",
       "            <tr>\n",
       "                        <th id=\"T_91fe7_level0_row9\" class=\"row_heading level0 row9\" >2017-10</th>\n",
       "                        <td id=\"T_91fe7_row9_col0\" class=\"data row9 col0\" >100.00%</td>\n",
       "                        <td id=\"T_91fe7_row9_col1\" class=\"data row9 col1\" >0.69%</td>\n",
       "                        <td id=\"T_91fe7_row9_col2\" class=\"data row9 col2\" >0.25%</td>\n",
       "                        <td id=\"T_91fe7_row9_col3\" class=\"data row9 col3\" >0.09%</td>\n",
       "                        <td id=\"T_91fe7_row9_col4\" class=\"data row9 col4\" >0.22%</td>\n",
       "                        <td id=\"T_91fe7_row9_col5\" class=\"data row9 col5\" >0.20%</td>\n",
       "                        <td id=\"T_91fe7_row9_col6\" class=\"data row9 col6\" ></td>\n",
       "                        <td id=\"T_91fe7_row9_col7\" class=\"data row9 col7\" ></td>\n",
       "                        <td id=\"T_91fe7_row9_col8\" class=\"data row9 col8\" ></td>\n",
       "                        <td id=\"T_91fe7_row9_col9\" class=\"data row9 col9\" ></td>\n",
       "                        <td id=\"T_91fe7_row9_col10\" class=\"data row9 col10\" ></td>\n",
       "                        <td id=\"T_91fe7_row9_col11\" class=\"data row9 col11\" ></td>\n",
       "                        <td id=\"T_91fe7_row9_col12\" class=\"data row9 col12\" ></td>\n",
       "                        <td id=\"T_91fe7_row9_col13\" class=\"data row9 col13\" ></td>\n",
       "                        <td id=\"T_91fe7_row9_col14\" class=\"data row9 col14\" ></td>\n",
       "            </tr>\n",
       "            <tr>\n",
       "                        <th id=\"T_91fe7_level0_row10\" class=\"row_heading level0 row10\" >2017-11</th>\n",
       "                        <td id=\"T_91fe7_row10_col0\" class=\"data row10 col0\" >100.00%</td>\n",
       "                        <td id=\"T_91fe7_row10_col1\" class=\"data row10 col1\" >0.55%</td>\n",
       "                        <td id=\"T_91fe7_row10_col2\" class=\"data row10 col2\" >0.38%</td>\n",
       "                        <td id=\"T_91fe7_row10_col3\" class=\"data row10 col3\" >0.18%</td>\n",
       "                        <td id=\"T_91fe7_row10_col4\" class=\"data row10 col4\" >0.19%</td>\n",
       "                        <td id=\"T_91fe7_row10_col5\" class=\"data row10 col5\" ></td>\n",
       "                        <td id=\"T_91fe7_row10_col6\" class=\"data row10 col6\" ></td>\n",
       "                        <td id=\"T_91fe7_row10_col7\" class=\"data row10 col7\" ></td>\n",
       "                        <td id=\"T_91fe7_row10_col8\" class=\"data row10 col8\" ></td>\n",
       "                        <td id=\"T_91fe7_row10_col9\" class=\"data row10 col9\" ></td>\n",
       "                        <td id=\"T_91fe7_row10_col10\" class=\"data row10 col10\" ></td>\n",
       "                        <td id=\"T_91fe7_row10_col11\" class=\"data row10 col11\" ></td>\n",
       "                        <td id=\"T_91fe7_row10_col12\" class=\"data row10 col12\" ></td>\n",
       "                        <td id=\"T_91fe7_row10_col13\" class=\"data row10 col13\" ></td>\n",
       "                        <td id=\"T_91fe7_row10_col14\" class=\"data row10 col14\" ></td>\n",
       "            </tr>\n",
       "            <tr>\n",
       "                        <th id=\"T_91fe7_level0_row11\" class=\"row_heading level0 row11\" >2017-12</th>\n",
       "                        <td id=\"T_91fe7_row11_col0\" class=\"data row11 col0\" >100.00%</td>\n",
       "                        <td id=\"T_91fe7_row11_col1\" class=\"data row11 col1\" >0.26%</td>\n",
       "                        <td id=\"T_91fe7_row11_col2\" class=\"data row11 col2\" >0.27%</td>\n",
       "                        <td id=\"T_91fe7_row11_col3\" class=\"data row11 col3\" >0.35%</td>\n",
       "                        <td id=\"T_91fe7_row11_col4\" class=\"data row11 col4\" ></td>\n",
       "                        <td id=\"T_91fe7_row11_col5\" class=\"data row11 col5\" ></td>\n",
       "                        <td id=\"T_91fe7_row11_col6\" class=\"data row11 col6\" ></td>\n",
       "                        <td id=\"T_91fe7_row11_col7\" class=\"data row11 col7\" ></td>\n",
       "                        <td id=\"T_91fe7_row11_col8\" class=\"data row11 col8\" ></td>\n",
       "                        <td id=\"T_91fe7_row11_col9\" class=\"data row11 col9\" ></td>\n",
       "                        <td id=\"T_91fe7_row11_col10\" class=\"data row11 col10\" ></td>\n",
       "                        <td id=\"T_91fe7_row11_col11\" class=\"data row11 col11\" ></td>\n",
       "                        <td id=\"T_91fe7_row11_col12\" class=\"data row11 col12\" ></td>\n",
       "                        <td id=\"T_91fe7_row11_col13\" class=\"data row11 col13\" ></td>\n",
       "                        <td id=\"T_91fe7_row11_col14\" class=\"data row11 col14\" ></td>\n",
       "            </tr>\n",
       "    </tbody></table>"
      ],
      "text/plain": [
       "<pandas.io.formats.style.Styler at 0x1be833f9220>"
      ]
     },
     "execution_count": 51,
     "metadata": {},
     "output_type": "execute_result"
    }
   ],
   "source": [
    "ur_style = (user_retention\n",
    ".style\n",
    ".set_caption('User retention by cohort') # добавляем подпись\n",
    ".background_gradient(cmap='viridis') # раскрашиваем ячейки по столбцам\n",
    ".highlight_null('white') # делаем белый фон для значений NaN\n",
    ".format(\"{:.2%}\", na_rep=\"\")) # числа форматируем как проценты, NaN заменяем на пустоту\n",
    "ur_style"
   ]
  },
  {
   "cell_type": "markdown",
   "id": "727017d2",
   "metadata": {},
   "source": [
    "Для наглядности раскрасим нашу таблицу как вы учили :). На третий месяц имеем самый большой retention у когорты, которая совершила свой первый заказ в июне 2017 года, ее коэффициент удержания составляет 0,41%. \n",
    "В целом, можно сказать что у нашего магазина довольно печальные показатели, поскольку retention в среднем не превышает даже 0,5%, это означает что очень часто пользователи не возвращаются чтобы сделать большего одного заказа (но возможно, мы продаем подводные лодки, никому не нужно 2 подводные лодки :))"
   ]
  },
  {
   "cell_type": "markdown",
   "id": "b5a16b02",
   "metadata": {},
   "source": [
    "<h3>Постороим RFM-сегментацию пользователей. </h3>"
   ]
  },
  {
   "cell_type": "markdown",
   "id": "0a7b53d3",
   "metadata": {},
   "source": [
    "Подготавливаем таблицу для работы.  Объединяем таблицу customers_orders (объединение customers и orders), выбирая из нее только доставленные заказы, с таблицей order_items и отбираем только необходимые столбцы 'customer_unique_id', 'order_id', 'price', 'order_purchase_timestamp'. Называем полученную таблицу full_df"
   ]
  },
  {
   "cell_type": "code",
   "execution_count": 52,
   "id": "b4300fa3",
   "metadata": {},
   "outputs": [],
   "source": [
    "full_df = (customers_orders[customers_orders.order_status == \"delivered\"].merge(order_items, how='left', on='order_id')\n",
    "           [['customer_unique_id', 'order_id', 'price', 'order_purchase_timestamp']])"
   ]
  },
  {
   "cell_type": "markdown",
   "id": "e2d78355",
   "metadata": {},
   "source": [
    "Считаем общую стоимость каждого заказа, ведь в одном заказе может быть несколько товаров."
   ]
  },
  {
   "cell_type": "code",
   "execution_count": 53,
   "id": "cd640fae",
   "metadata": {},
   "outputs": [],
   "source": [
    "full_df = (full_df.groupby(['customer_unique_id', 'order_id', 'order_purchase_timestamp'], as_index=False)\n",
    "           .agg({'price': 'sum'}))"
   ]
  },
  {
   "cell_type": "markdown",
   "id": "f01c253a",
   "metadata": {},
   "source": [
    "Добавляем столбец days_since_order в который записываем разницу в днях между текущей датой (у меня это 02.09.2022) и датой создания заказа."
   ]
  },
  {
   "cell_type": "code",
   "execution_count": 54,
   "id": "b7ba6521",
   "metadata": {
    "scrolled": true
   },
   "outputs": [
    {
     "data": {
      "text/html": [
       "<div>\n",
       "<style scoped>\n",
       "    .dataframe tbody tr th:only-of-type {\n",
       "        vertical-align: middle;\n",
       "    }\n",
       "\n",
       "    .dataframe tbody tr th {\n",
       "        vertical-align: top;\n",
       "    }\n",
       "\n",
       "    .dataframe thead th {\n",
       "        text-align: right;\n",
       "    }\n",
       "</style>\n",
       "<table border=\"1\" class=\"dataframe\">\n",
       "  <thead>\n",
       "    <tr style=\"text-align: right;\">\n",
       "      <th></th>\n",
       "      <th>customer_unique_id</th>\n",
       "      <th>order_id</th>\n",
       "      <th>order_purchase_timestamp</th>\n",
       "      <th>price</th>\n",
       "      <th>days_since_order</th>\n",
       "    </tr>\n",
       "  </thead>\n",
       "  <tbody>\n",
       "    <tr>\n",
       "      <th>0</th>\n",
       "      <td>0000366f3b9a7992bf8c76cfdf3221e2</td>\n",
       "      <td>e22acc9c116caa3f2b7121bbb380d08e</td>\n",
       "      <td>2018-05-10 10:56:27</td>\n",
       "      <td>129.90</td>\n",
       "      <td>1576</td>\n",
       "    </tr>\n",
       "    <tr>\n",
       "      <th>1</th>\n",
       "      <td>0000b849f77a49e4a4ce2b2a4ca5be3f</td>\n",
       "      <td>3594e05a005ac4d06a72673270ef9ec9</td>\n",
       "      <td>2018-05-07 11:11:27</td>\n",
       "      <td>18.90</td>\n",
       "      <td>1579</td>\n",
       "    </tr>\n",
       "    <tr>\n",
       "      <th>2</th>\n",
       "      <td>0000f46a3911fa3c0805444483337064</td>\n",
       "      <td>b33ec3b699337181488304f362a6b734</td>\n",
       "      <td>2017-03-10 21:05:03</td>\n",
       "      <td>69.00</td>\n",
       "      <td>2001</td>\n",
       "    </tr>\n",
       "    <tr>\n",
       "      <th>3</th>\n",
       "      <td>0000f6ccb0745a6a4b88665a16c9f078</td>\n",
       "      <td>41272756ecddd9a9ed0180413cc22fb6</td>\n",
       "      <td>2017-10-12 20:29:41</td>\n",
       "      <td>25.99</td>\n",
       "      <td>1785</td>\n",
       "    </tr>\n",
       "    <tr>\n",
       "      <th>4</th>\n",
       "      <td>0004aac84e0df4da2b147fca70cf8255</td>\n",
       "      <td>d957021f1127559cd947b62533f484f7</td>\n",
       "      <td>2017-11-14 19:45:42</td>\n",
       "      <td>180.00</td>\n",
       "      <td>1752</td>\n",
       "    </tr>\n",
       "  </tbody>\n",
       "</table>\n",
       "</div>"
      ],
      "text/plain": [
       "                 customer_unique_id                          order_id  \\\n",
       "0  0000366f3b9a7992bf8c76cfdf3221e2  e22acc9c116caa3f2b7121bbb380d08e   \n",
       "1  0000b849f77a49e4a4ce2b2a4ca5be3f  3594e05a005ac4d06a72673270ef9ec9   \n",
       "2  0000f46a3911fa3c0805444483337064  b33ec3b699337181488304f362a6b734   \n",
       "3  0000f6ccb0745a6a4b88665a16c9f078  41272756ecddd9a9ed0180413cc22fb6   \n",
       "4  0004aac84e0df4da2b147fca70cf8255  d957021f1127559cd947b62533f484f7   \n",
       "\n",
       "  order_purchase_timestamp   price  days_since_order  \n",
       "0      2018-05-10 10:56:27  129.90              1576  \n",
       "1      2018-05-07 11:11:27   18.90              1579  \n",
       "2      2017-03-10 21:05:03   69.00              2001  \n",
       "3      2017-10-12 20:29:41   25.99              1785  \n",
       "4      2017-11-14 19:45:42  180.00              1752  "
      ]
     },
     "execution_count": 54,
     "metadata": {},
     "output_type": "execute_result"
    }
   ],
   "source": [
    "full_df['days_since_order'] = full_df['order_purchase_timestamp'].apply(lambda x: (pd.to_datetime(\"today\") - x).days)\n",
    "full_df.head()"
   ]
  },
  {
   "cell_type": "markdown",
   "id": "c73972f6",
   "metadata": {},
   "source": [
    "Для каждого пользователя выбираем минимальное days_since_order, получаем время со дня последней покупки до текущей даты в днях - recency, подсчитываем количество получившихся записей - это суммарное количество покупок пользователя за все время - frequency, а также считаем общую сумму всех покупок - monetary. Переименовываем все колонки."
   ]
  },
  {
   "cell_type": "code",
   "execution_count": 55,
   "id": "205c7de3",
   "metadata": {},
   "outputs": [],
   "source": [
    "rfm = (full_df.groupby('customer_unique_id', as_index=False)\n",
    "       .agg({'days_since_order': 'min',\n",
    "        'order_purchase_timestamp': 'count',\n",
    "        'price': 'sum'})\n",
    "      .rename(columns={'days_since_order': 'recency', 'order_purchase_timestamp': 'frequency', 'price': 'monetary'}))"
   ]
  },
  {
   "cell_type": "code",
   "execution_count": 56,
   "id": "93972cf9",
   "metadata": {
    "scrolled": true
   },
   "outputs": [
    {
     "data": {
      "text/html": [
       "<div>\n",
       "<style scoped>\n",
       "    .dataframe tbody tr th:only-of-type {\n",
       "        vertical-align: middle;\n",
       "    }\n",
       "\n",
       "    .dataframe tbody tr th {\n",
       "        vertical-align: top;\n",
       "    }\n",
       "\n",
       "    .dataframe thead th {\n",
       "        text-align: right;\n",
       "    }\n",
       "</style>\n",
       "<table border=\"1\" class=\"dataframe\">\n",
       "  <thead>\n",
       "    <tr style=\"text-align: right;\">\n",
       "      <th></th>\n",
       "      <th>customer_unique_id</th>\n",
       "      <th>recency</th>\n",
       "      <th>frequency</th>\n",
       "      <th>monetary</th>\n",
       "    </tr>\n",
       "  </thead>\n",
       "  <tbody>\n",
       "    <tr>\n",
       "      <th>0</th>\n",
       "      <td>0000366f3b9a7992bf8c76cfdf3221e2</td>\n",
       "      <td>1576</td>\n",
       "      <td>1</td>\n",
       "      <td>129.90</td>\n",
       "    </tr>\n",
       "    <tr>\n",
       "      <th>1</th>\n",
       "      <td>0000b849f77a49e4a4ce2b2a4ca5be3f</td>\n",
       "      <td>1579</td>\n",
       "      <td>1</td>\n",
       "      <td>18.90</td>\n",
       "    </tr>\n",
       "    <tr>\n",
       "      <th>2</th>\n",
       "      <td>0000f46a3911fa3c0805444483337064</td>\n",
       "      <td>2001</td>\n",
       "      <td>1</td>\n",
       "      <td>69.00</td>\n",
       "    </tr>\n",
       "    <tr>\n",
       "      <th>3</th>\n",
       "      <td>0000f6ccb0745a6a4b88665a16c9f078</td>\n",
       "      <td>1785</td>\n",
       "      <td>1</td>\n",
       "      <td>25.99</td>\n",
       "    </tr>\n",
       "    <tr>\n",
       "      <th>4</th>\n",
       "      <td>0004aac84e0df4da2b147fca70cf8255</td>\n",
       "      <td>1752</td>\n",
       "      <td>1</td>\n",
       "      <td>180.00</td>\n",
       "    </tr>\n",
       "  </tbody>\n",
       "</table>\n",
       "</div>"
      ],
      "text/plain": [
       "                 customer_unique_id  recency  frequency  monetary\n",
       "0  0000366f3b9a7992bf8c76cfdf3221e2     1576          1    129.90\n",
       "1  0000b849f77a49e4a4ce2b2a4ca5be3f     1579          1     18.90\n",
       "2  0000f46a3911fa3c0805444483337064     2001          1     69.00\n",
       "3  0000f6ccb0745a6a4b88665a16c9f078     1785          1     25.99\n",
       "4  0004aac84e0df4da2b147fca70cf8255     1752          1    180.00"
      ]
     },
     "execution_count": 56,
     "metadata": {},
     "output_type": "execute_result"
    }
   ],
   "source": [
    "rfm.head()"
   ]
  },
  {
   "cell_type": "markdown",
   "id": "b2890749",
   "metadata": {},
   "source": [
    "Рассчитываем 2, 4, 6 и 8 квантили для значений recency, frequency и monetary."
   ]
  },
  {
   "cell_type": "code",
   "execution_count": 57,
   "id": "fe0ea6b2",
   "metadata": {},
   "outputs": [
    {
     "data": {
      "text/plain": [
       "{'recency': {0.2: 1556.0, 0.4: 1641.0, 0.6: 1732.0, 0.8: 1846.0},\n",
       " 'frequency': {0.2: 1.0, 0.4: 1.0, 0.6: 1.0, 0.8: 1.0},\n",
       " 'monetary': {0.2: 39.9, 0.4: 69.9, 0.6: 109.9, 0.8: 179.9}}"
      ]
     },
     "execution_count": 57,
     "metadata": {},
     "output_type": "execute_result"
    }
   ],
   "source": [
    "quintiles = rfm[['recency', 'frequency', 'monetary']].quantile([.2, .4, .6, .8]).to_dict()\n",
    "quintiles"
   ]
  },
  {
   "cell_type": "markdown",
   "id": "bd0e5c11",
   "metadata": {},
   "source": [
    "Поскольку значение frequency одинаковое для всех квантилей (наши пользователи очень редко делают больше двух покупок) разобьем frequency только на 2 сегмента по 97 процентилю (мы помним про 3% из первого задания)."
   ]
  },
  {
   "cell_type": "code",
   "execution_count": 58,
   "id": "37ff60a0",
   "metadata": {},
   "outputs": [
    {
     "data": {
      "text/plain": [
       "{'recency': {0.2: 1556.0, 0.4: 1641.0, 0.6: 1732.0, 0.8: 1846.0},\n",
       " 'frequency': {0.97: 1.2899999999935972},\n",
       " 'monetary': {0.2: 39.9, 0.4: 69.9, 0.6: 109.9, 0.8: 179.9}}"
      ]
     },
     "execution_count": 58,
     "metadata": {},
     "output_type": "execute_result"
    }
   ],
   "source": [
    "quintiles['frequency'] =  rfm['frequency'].quantile([.97]).to_dict()\n",
    "quintiles"
   ]
  },
  {
   "cell_type": "markdown",
   "id": "2e235213",
   "metadata": {},
   "source": [
    "Создаем функции для разделения на сегменты каждой из переменных. Учитываем что для переменной recency значение чем меньше тем лучше, а для переменных frequency и monetary большие показатели дают большую оценку"
   ]
  },
  {
   "attachments": {
    "image-2.png": {
     "image/png": "[encoded data removed]"
    }
   },
   "cell_type": "markdown",
   "id": "84114e9e",
   "metadata": {},
   "source": [
    "Для каждой оценки границы выглядят следующим образом<br>\n",
    "Так мы получаем разделение наших пользователей на 50 сегментов.\n",
    "![image-2.png](attachment:image-2.png)"
   ]
  },
  {
   "cell_type": "code",
   "execution_count": 59,
   "id": "f0eb8832",
   "metadata": {},
   "outputs": [],
   "source": [
    "def r_score(x):\n",
    "    if x <= quintiles['recency'][.2]:\n",
    "        return 5\n",
    "    elif x <= quintiles['recency'][.4]:\n",
    "        return 4\n",
    "    elif x <= quintiles['recency'][.6]:\n",
    "        return 3\n",
    "    elif x <= quintiles['recency'][.8]:\n",
    "        return 2\n",
    "    else:\n",
    "        return 1\n",
    "    \n",
    "    \n",
    "def f_score(x):\n",
    "    if x <= quintiles['frequency'][.97]:\n",
    "        return 1\n",
    "    else:\n",
    "        return 2\n",
    "     \n",
    "    \n",
    "def m_score(x):\n",
    "    if x <= quintiles['monetary'][.2]:\n",
    "        return 1\n",
    "    elif x <= quintiles['monetary'][.4]:\n",
    "        return 2\n",
    "    elif x <= quintiles['monetary'][.6]:\n",
    "        return 3\n",
    "    elif x <= quintiles['monetary'][.8]:\n",
    "        return 4\n",
    "    else:\n",
    "        return 5       "
   ]
  },
  {
   "cell_type": "markdown",
   "id": "d859493b",
   "metadata": {},
   "source": [
    "Применяем созданные выше функции и создаем столбцы R, F и M"
   ]
  },
  {
   "cell_type": "code",
   "execution_count": 60,
   "id": "50b960ef",
   "metadata": {},
   "outputs": [],
   "source": [
    "rfm['R'] = rfm['recency'].apply(lambda x: r_score(x))\n",
    "rfm['F'] = rfm['frequency'].apply(lambda x: f_score(x))\n",
    "rfm['M'] = rfm['monetary'].apply(lambda x: m_score(x))"
   ]
  },
  {
   "cell_type": "markdown",
   "id": "b0e5a2e6",
   "metadata": {},
   "source": [
    "Объединяем значения получившихся оценок и получаем RFM_Score"
   ]
  },
  {
   "cell_type": "code",
   "execution_count": 61,
   "id": "da454bfc",
   "metadata": {},
   "outputs": [],
   "source": [
    "rfm['RFM_Score'] = rfm['R'].map(str) + rfm['F'].map(str) + rfm['M'].map(str)"
   ]
  },
  {
   "cell_type": "markdown",
   "id": "007cd2dc",
   "metadata": {},
   "source": [
    "Для удобства строим несколько визуализаций. Первая визуализация - по примеру указанному в статье.Вторая - горизонтальный барплот с сортировкой по количеству пользователей в сегменте."
   ]
  },
  {
   "cell_type": "code",
   "execution_count": 62,
   "id": "f3362a00",
   "metadata": {},
   "outputs": [
    {
     "data": {
      "image/png": "[encoded data removed]",
      "text/plain": [
       "<Figure size 720x288 with 2 Axes>"
      ]
     },
     "metadata": {
      "needs_background": "light"
     },
     "output_type": "display_data"
    },
    {
     "data": {
      "image/png": "[encoded data removed]",
      "text/plain": [
       "<Figure size 720x720 with 10 Axes>"
      ]
     },
     "metadata": {
      "needs_background": "light"
     },
     "output_type": "display_data"
    }
   ],
   "source": [
    "fig, axes = plt.subplots(nrows=1, ncols=2, figsize=(10, 4))\n",
    "\n",
    "for i, p in enumerate(['R', 'F']):\n",
    "    parameters = {'R':'recency', 'F':'frequency'}\n",
    "    y = rfm[p].value_counts().sort_index()\n",
    "    x = y.index\n",
    "    ax = axes[i]\n",
    "    bars = ax.bar(x, y, color='silver')\n",
    "    ax.set_frame_on(False)\n",
    "    ax.tick_params(left=False, labelleft=False, bottom=False)\n",
    "    ax.set_title('Distribution of {}'.format(parameters[p]),\n",
    "                fontsize=14)\n",
    "    for bar in bars:\n",
    "        value = bar.get_height()\n",
    "        if value == y.max():\n",
    "            bar.set_color('firebrick')\n",
    "        ax.text(bar.get_x() + bar.get_width() / 2,\n",
    "                value - 5,\n",
    "                '{}\\n({}%)'.format(int(value), int(value * 100 / y.sum())),\n",
    "               ha='center',\n",
    "               va='top',\n",
    "               color='w')\n",
    "\n",
    "plt.show()\n",
    "\n",
    "# plot the distribution of M for RF score\n",
    "fig, axes = plt.subplots(nrows=5, ncols=2,\n",
    "                         sharex=False, sharey=True,\n",
    "                         figsize=(10, 10))\n",
    "\n",
    "r_range = range(1, 6)\n",
    "f_range = range(1, 3)\n",
    "for r in r_range:\n",
    "    for f in f_range:\n",
    "        y = rfm[(rfm['R'] == r) & (rfm['F'] == f)]['M'].value_counts().sort_index()\n",
    "        x = y.index\n",
    "        ax = axes[r - 1, f - 1]\n",
    "        bars = ax.bar(x, y, color='silver')\n",
    "        if r == 5:\n",
    "            if f == 2:\n",
    "                ax.set_xlabel('{}\\nF'.format(f), va='top')\n",
    "            else:\n",
    "                ax.set_xlabel('{}\\n'.format(f), va='top')\n",
    "        if f == 1:\n",
    "            if r == 3:\n",
    "                ax.set_ylabel('R\\n{}'.format(r))\n",
    "            else:\n",
    "                ax.set_ylabel(r)\n",
    "        ax.set_frame_on(False)\n",
    "        ax.tick_params(left=False, labelleft=False, bottom=False)\n",
    "        ax.set_xticks(x)\n",
    "        ax.set_xticklabels(x, fontsize=8)\n",
    "\n",
    "        for bar in bars:\n",
    "            value = bar.get_height()\n",
    "            if value == y.max():\n",
    "                bar.set_color('firebrick')\n",
    "            ax.text(bar.get_x() + bar.get_width() / 2,\n",
    "                    value,\n",
    "                    int(value),\n",
    "                    ha='center',\n",
    "                    va='bottom',\n",
    "                    color='k')\n",
    "fig.suptitle('Distribution of M for each F and R',\n",
    "             fontsize=14)\n",
    "plt.tight_layout()\n",
    "plt.show()\n"
   ]
  },
  {
   "cell_type": "code",
   "execution_count": 63,
   "id": "d13df2be",
   "metadata": {},
   "outputs": [],
   "source": [
    "plot_rfm = rfm.groupby('RFM_Score', as_index=False).customer_unique_id.count().sort_values('customer_unique_id', ascending=False).rename(columns={'customer_unique_id': 'users_in_the_segment'})\n"
   ]
  },
  {
   "cell_type": "code",
   "execution_count": 64,
   "id": "6f24d3e6",
   "metadata": {},
   "outputs": [
    {
     "data": {
      "image/png": "[encoded data removed]",
      "text/plain": [
       "<Figure size 1080x1008 with 1 Axes>"
      ]
     },
     "metadata": {},
     "output_type": "display_data"
    }
   ],
   "source": [
    "sns.set_theme(style=\"whitegrid\")\n",
    "plt.figure(figsize=(15,14))\n",
    "ax = sns.barplot(x=\"users_in_the_segment\", y=\"RFM_Score\", data=plot_rfm)\n",
    "ax.set_title('Distribution of users by segments\\n', fontsize=20)\n",
    "ax.set_ylabel('RFM Score\\n', fontsize=16)\n",
    "ax.set_xlabel('\\n Users in the segment', fontsize=16)\n",
    "sns.despine(left=True, bottom=True)"
   ]
  },
  {
   "cell_type": "markdown",
   "id": "10417941",
   "metadata": {},
   "source": [
    "В нашем случае, использование rfm сегментации является не совсем корректным, поскольку 97% наших пользователей совершили всего одну покупку, что не дает нам четкого представления о переменных R, F и M. Из за этого крайне сложно делать какие то выводы о пользователях по тому сегментоному распределению пользователей что получилось по представленным нам данным. "
   ]
  },
  {
   "cell_type": "code",
   "execution_count": null,
   "id": "9e51fc8e",
   "metadata": {},
   "outputs": [],
   "source": []
  }
 ],
 "metadata": {
  "kernelspec": {
   "display_name": "Python 3",
   "language": "python",
   "name": "python3"
  },
  "language_info": {
   "codemirror_mode": {
    "name": "ipython",
    "version": 3
   },
   "file_extension": ".py",
   "mimetype": "text/x-python",
   "name": "python",
   "nbconvert_exporter": "python",
   "pygments_lexer": "ipython3",
   "version": "3.8.8"
  }
 },
 "nbformat": 4,
 "nbformat_minor": 5
}
